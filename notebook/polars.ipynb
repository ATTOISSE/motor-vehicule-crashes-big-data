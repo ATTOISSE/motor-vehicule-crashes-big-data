{
 "cells": [
  {
   "cell_type": "code",
   "execution_count": 1,
   "id": "7713bf79-116b-48f9-90d3-432fbf8e19b2",
   "metadata": {},
   "outputs": [],
   "source": [
    "# Importation des bibliothèques nécessaires\n",
    "import polars as pl\n",
    "import psycopg2\n",
    "import os\n",
    "from minio import Minio"
   ]
  },
  {
   "cell_type": "code",
   "execution_count": null,
   "id": "33282b85-889b-41b0-ba27-fd2618d7c92a",
   "metadata": {},
   "outputs": [],
   "source": [
    "# Variables d'environnement\n",
    "MINIO_ENDPOINT = os.getenv(\"MINIO_ENDPOINT\", \"http://localhost:9000\")\n",
    "POSTGRES_HOST = os.getenv(\"POSTGRES_HOST\", \"localhost\")\n",
    "POSTGRES_USER = os.getenv(\"POSTGRES_USER\", \"user\")\n",
    "POSTGRES_PASSWORD = os.getenv(\"POSTGRES_PASSWORD\", \"password\")\n",
    "POSTGRES_DB = os.getenv(\"POSTGRES_DB\", \"accidents\")\n"
   ]
  },
  {
   "cell_type": "code",
   "execution_count": 3,
   "id": "f293e594-6bb4-4340-bdbb-fc462305c70d",
   "metadata": {},
   "outputs": [],
   "source": [
    "# Variables de configuration\n",
    "MINIO_ENDPOINT = os.getenv(\"MINIO_ENDPOINT\", \"http://localhost:9000\")\n",
    "ACCESS_KEY = \"minioadmin\"\n",
    "SECRET_KEY = \"minioadmin\"\n",
    "BUCKET_NAME = \"accidents\"\n",
    "FILE_NAME = \"Motor.csv\"\n",
    "LOCAL_FILE_PATH = f\"../data/{FILE_NAME}\"\n",
    "DOWNLOAD_PATH = f\"./data/{FILE_NAME}_downloaded.csv\"\n"
   ]
  },
  {
   "cell_type": "code",
   "execution_count": 4,
   "id": "dad37d05-049d-4c4e-a6e0-0dcfd3c09b45",
   "metadata": {},
   "outputs": [],
   "source": [
    "# Connexion à Minio\n",
    "minio_client = Minio(\n",
    "    MINIO_ENDPOINT.replace(\"http://\", \"\").replace(\"https://\", \"\"),\n",
    "    access_key=\"minioadmin\",\n",
    "    secret_key=\"minioadmin\",\n",
    "    secure=False\n",
    ")"
   ]
  },
  {
   "cell_type": "code",
   "execution_count": 5,
   "id": "805ff007-1637-4650-bdf8-8b613d222ca6",
   "metadata": {},
   "outputs": [
    {
     "ename": "MaxRetryError",
     "evalue": "HTTPConnectionPool(host='minio', port=9000): Max retries exceeded with url: /accidents?location= (Caused by NameResolutionError(\"<urllib3.connection.HTTPConnection object at 0x0000017735263A10>: Failed to resolve 'minio' ([Errno 11001] getaddrinfo failed)\"))",
     "output_type": "error",
     "traceback": [
      "\u001b[31m---------------------------------------------------------------------------\u001b[39m",
      "\u001b[31mgaierror\u001b[39m                                  Traceback (most recent call last)",
      "\u001b[36mFile \u001b[39m\u001b[32mc:\\M2DSIA\\big data\\examenBigData\\env\\Lib\\site-packages\\urllib3\\connection.py:198\u001b[39m, in \u001b[36mHTTPConnection._new_conn\u001b[39m\u001b[34m(self)\u001b[39m\n\u001b[32m    197\u001b[39m \u001b[38;5;28;01mtry\u001b[39;00m:\n\u001b[32m--> \u001b[39m\u001b[32m198\u001b[39m     sock = \u001b[43mconnection\u001b[49m\u001b[43m.\u001b[49m\u001b[43mcreate_connection\u001b[49m\u001b[43m(\u001b[49m\n\u001b[32m    199\u001b[39m \u001b[43m        \u001b[49m\u001b[43m(\u001b[49m\u001b[38;5;28;43mself\u001b[39;49m\u001b[43m.\u001b[49m\u001b[43m_dns_host\u001b[49m\u001b[43m,\u001b[49m\u001b[43m \u001b[49m\u001b[38;5;28;43mself\u001b[39;49m\u001b[43m.\u001b[49m\u001b[43mport\u001b[49m\u001b[43m)\u001b[49m\u001b[43m,\u001b[49m\n\u001b[32m    200\u001b[39m \u001b[43m        \u001b[49m\u001b[38;5;28;43mself\u001b[39;49m\u001b[43m.\u001b[49m\u001b[43mtimeout\u001b[49m\u001b[43m,\u001b[49m\n\u001b[32m    201\u001b[39m \u001b[43m        \u001b[49m\u001b[43msource_address\u001b[49m\u001b[43m=\u001b[49m\u001b[38;5;28;43mself\u001b[39;49m\u001b[43m.\u001b[49m\u001b[43msource_address\u001b[49m\u001b[43m,\u001b[49m\n\u001b[32m    202\u001b[39m \u001b[43m        \u001b[49m\u001b[43msocket_options\u001b[49m\u001b[43m=\u001b[49m\u001b[38;5;28;43mself\u001b[39;49m\u001b[43m.\u001b[49m\u001b[43msocket_options\u001b[49m\u001b[43m,\u001b[49m\n\u001b[32m    203\u001b[39m \u001b[43m    \u001b[49m\u001b[43m)\u001b[49m\n\u001b[32m    204\u001b[39m \u001b[38;5;28;01mexcept\u001b[39;00m socket.gaierror \u001b[38;5;28;01mas\u001b[39;00m e:\n",
      "\u001b[36mFile \u001b[39m\u001b[32mc:\\M2DSIA\\big data\\examenBigData\\env\\Lib\\site-packages\\urllib3\\util\\connection.py:60\u001b[39m, in \u001b[36mcreate_connection\u001b[39m\u001b[34m(address, timeout, source_address, socket_options)\u001b[39m\n\u001b[32m     58\u001b[39m     \u001b[38;5;28;01mraise\u001b[39;00m LocationParseError(\u001b[33mf\u001b[39m\u001b[33m\"\u001b[39m\u001b[33m'\u001b[39m\u001b[38;5;132;01m{\u001b[39;00mhost\u001b[38;5;132;01m}\u001b[39;00m\u001b[33m'\u001b[39m\u001b[33m, label empty or too long\u001b[39m\u001b[33m\"\u001b[39m) \u001b[38;5;28;01mfrom\u001b[39;00m\u001b[38;5;250m \u001b[39m\u001b[38;5;28;01mNone\u001b[39;00m\n\u001b[32m---> \u001b[39m\u001b[32m60\u001b[39m \u001b[38;5;28;01mfor\u001b[39;00m res \u001b[38;5;129;01min\u001b[39;00m \u001b[43msocket\u001b[49m\u001b[43m.\u001b[49m\u001b[43mgetaddrinfo\u001b[49m\u001b[43m(\u001b[49m\u001b[43mhost\u001b[49m\u001b[43m,\u001b[49m\u001b[43m \u001b[49m\u001b[43mport\u001b[49m\u001b[43m,\u001b[49m\u001b[43m \u001b[49m\u001b[43mfamily\u001b[49m\u001b[43m,\u001b[49m\u001b[43m \u001b[49m\u001b[43msocket\u001b[49m\u001b[43m.\u001b[49m\u001b[43mSOCK_STREAM\u001b[49m\u001b[43m)\u001b[49m:\n\u001b[32m     61\u001b[39m     af, socktype, proto, canonname, sa = res\n",
      "\u001b[36mFile \u001b[39m\u001b[32m~\\AppData\\Local\\Programs\\Python\\Python312\\Lib\\socket.py:964\u001b[39m, in \u001b[36mgetaddrinfo\u001b[39m\u001b[34m(host, port, family, type, proto, flags)\u001b[39m\n\u001b[32m    963\u001b[39m addrlist = []\n\u001b[32m--> \u001b[39m\u001b[32m964\u001b[39m \u001b[38;5;28;01mfor\u001b[39;00m res \u001b[38;5;129;01min\u001b[39;00m \u001b[43m_socket\u001b[49m\u001b[43m.\u001b[49m\u001b[43mgetaddrinfo\u001b[49m\u001b[43m(\u001b[49m\u001b[43mhost\u001b[49m\u001b[43m,\u001b[49m\u001b[43m \u001b[49m\u001b[43mport\u001b[49m\u001b[43m,\u001b[49m\u001b[43m \u001b[49m\u001b[43mfamily\u001b[49m\u001b[43m,\u001b[49m\u001b[43m \u001b[49m\u001b[38;5;28;43mtype\u001b[39;49m\u001b[43m,\u001b[49m\u001b[43m \u001b[49m\u001b[43mproto\u001b[49m\u001b[43m,\u001b[49m\u001b[43m \u001b[49m\u001b[43mflags\u001b[49m\u001b[43m)\u001b[49m:\n\u001b[32m    965\u001b[39m     af, socktype, proto, canonname, sa = res\n",
      "\u001b[31mgaierror\u001b[39m: [Errno 11001] getaddrinfo failed",
      "\nThe above exception was the direct cause of the following exception:\n",
      "\u001b[31mNameResolutionError\u001b[39m                       Traceback (most recent call last)",
      "\u001b[36mFile \u001b[39m\u001b[32mc:\\M2DSIA\\big data\\examenBigData\\env\\Lib\\site-packages\\urllib3\\connectionpool.py:787\u001b[39m, in \u001b[36mHTTPConnectionPool.urlopen\u001b[39m\u001b[34m(self, method, url, body, headers, retries, redirect, assert_same_host, timeout, pool_timeout, release_conn, chunked, body_pos, preload_content, decode_content, **response_kw)\u001b[39m\n\u001b[32m    786\u001b[39m \u001b[38;5;66;03m# Make the request on the HTTPConnection object\u001b[39;00m\n\u001b[32m--> \u001b[39m\u001b[32m787\u001b[39m response = \u001b[38;5;28;43mself\u001b[39;49m\u001b[43m.\u001b[49m\u001b[43m_make_request\u001b[49m\u001b[43m(\u001b[49m\n\u001b[32m    788\u001b[39m \u001b[43m    \u001b[49m\u001b[43mconn\u001b[49m\u001b[43m,\u001b[49m\n\u001b[32m    789\u001b[39m \u001b[43m    \u001b[49m\u001b[43mmethod\u001b[49m\u001b[43m,\u001b[49m\n\u001b[32m    790\u001b[39m \u001b[43m    \u001b[49m\u001b[43murl\u001b[49m\u001b[43m,\u001b[49m\n\u001b[32m    791\u001b[39m \u001b[43m    \u001b[49m\u001b[43mtimeout\u001b[49m\u001b[43m=\u001b[49m\u001b[43mtimeout_obj\u001b[49m\u001b[43m,\u001b[49m\n\u001b[32m    792\u001b[39m \u001b[43m    \u001b[49m\u001b[43mbody\u001b[49m\u001b[43m=\u001b[49m\u001b[43mbody\u001b[49m\u001b[43m,\u001b[49m\n\u001b[32m    793\u001b[39m \u001b[43m    \u001b[49m\u001b[43mheaders\u001b[49m\u001b[43m=\u001b[49m\u001b[43mheaders\u001b[49m\u001b[43m,\u001b[49m\n\u001b[32m    794\u001b[39m \u001b[43m    \u001b[49m\u001b[43mchunked\u001b[49m\u001b[43m=\u001b[49m\u001b[43mchunked\u001b[49m\u001b[43m,\u001b[49m\n\u001b[32m    795\u001b[39m \u001b[43m    \u001b[49m\u001b[43mretries\u001b[49m\u001b[43m=\u001b[49m\u001b[43mretries\u001b[49m\u001b[43m,\u001b[49m\n\u001b[32m    796\u001b[39m \u001b[43m    \u001b[49m\u001b[43mresponse_conn\u001b[49m\u001b[43m=\u001b[49m\u001b[43mresponse_conn\u001b[49m\u001b[43m,\u001b[49m\n\u001b[32m    797\u001b[39m \u001b[43m    \u001b[49m\u001b[43mpreload_content\u001b[49m\u001b[43m=\u001b[49m\u001b[43mpreload_content\u001b[49m\u001b[43m,\u001b[49m\n\u001b[32m    798\u001b[39m \u001b[43m    \u001b[49m\u001b[43mdecode_content\u001b[49m\u001b[43m=\u001b[49m\u001b[43mdecode_content\u001b[49m\u001b[43m,\u001b[49m\n\u001b[32m    799\u001b[39m \u001b[43m    \u001b[49m\u001b[43m*\u001b[49m\u001b[43m*\u001b[49m\u001b[43mresponse_kw\u001b[49m\u001b[43m,\u001b[49m\n\u001b[32m    800\u001b[39m \u001b[43m\u001b[49m\u001b[43m)\u001b[49m\n\u001b[32m    802\u001b[39m \u001b[38;5;66;03m# Everything went great!\u001b[39;00m\n",
      "\u001b[36mFile \u001b[39m\u001b[32mc:\\M2DSIA\\big data\\examenBigData\\env\\Lib\\site-packages\\urllib3\\connectionpool.py:493\u001b[39m, in \u001b[36mHTTPConnectionPool._make_request\u001b[39m\u001b[34m(self, conn, method, url, body, headers, retries, timeout, chunked, response_conn, preload_content, decode_content, enforce_content_length)\u001b[39m\n\u001b[32m    492\u001b[39m \u001b[38;5;28;01mtry\u001b[39;00m:\n\u001b[32m--> \u001b[39m\u001b[32m493\u001b[39m     \u001b[43mconn\u001b[49m\u001b[43m.\u001b[49m\u001b[43mrequest\u001b[49m\u001b[43m(\u001b[49m\n\u001b[32m    494\u001b[39m \u001b[43m        \u001b[49m\u001b[43mmethod\u001b[49m\u001b[43m,\u001b[49m\n\u001b[32m    495\u001b[39m \u001b[43m        \u001b[49m\u001b[43murl\u001b[49m\u001b[43m,\u001b[49m\n\u001b[32m    496\u001b[39m \u001b[43m        \u001b[49m\u001b[43mbody\u001b[49m\u001b[43m=\u001b[49m\u001b[43mbody\u001b[49m\u001b[43m,\u001b[49m\n\u001b[32m    497\u001b[39m \u001b[43m        \u001b[49m\u001b[43mheaders\u001b[49m\u001b[43m=\u001b[49m\u001b[43mheaders\u001b[49m\u001b[43m,\u001b[49m\n\u001b[32m    498\u001b[39m \u001b[43m        \u001b[49m\u001b[43mchunked\u001b[49m\u001b[43m=\u001b[49m\u001b[43mchunked\u001b[49m\u001b[43m,\u001b[49m\n\u001b[32m    499\u001b[39m \u001b[43m        \u001b[49m\u001b[43mpreload_content\u001b[49m\u001b[43m=\u001b[49m\u001b[43mpreload_content\u001b[49m\u001b[43m,\u001b[49m\n\u001b[32m    500\u001b[39m \u001b[43m        \u001b[49m\u001b[43mdecode_content\u001b[49m\u001b[43m=\u001b[49m\u001b[43mdecode_content\u001b[49m\u001b[43m,\u001b[49m\n\u001b[32m    501\u001b[39m \u001b[43m        \u001b[49m\u001b[43menforce_content_length\u001b[49m\u001b[43m=\u001b[49m\u001b[43menforce_content_length\u001b[49m\u001b[43m,\u001b[49m\n\u001b[32m    502\u001b[39m \u001b[43m    \u001b[49m\u001b[43m)\u001b[49m\n\u001b[32m    504\u001b[39m \u001b[38;5;66;03m# We are swallowing BrokenPipeError (errno.EPIPE) since the server is\u001b[39;00m\n\u001b[32m    505\u001b[39m \u001b[38;5;66;03m# legitimately able to close the connection after sending a valid response.\u001b[39;00m\n\u001b[32m    506\u001b[39m \u001b[38;5;66;03m# With this behaviour, the received response is still readable.\u001b[39;00m\n",
      "\u001b[36mFile \u001b[39m\u001b[32mc:\\M2DSIA\\big data\\examenBigData\\env\\Lib\\site-packages\\urllib3\\connection.py:445\u001b[39m, in \u001b[36mHTTPConnection.request\u001b[39m\u001b[34m(self, method, url, body, headers, chunked, preload_content, decode_content, enforce_content_length)\u001b[39m\n\u001b[32m    444\u001b[39m     \u001b[38;5;28mself\u001b[39m.putheader(header, value)\n\u001b[32m--> \u001b[39m\u001b[32m445\u001b[39m \u001b[38;5;28;43mself\u001b[39;49m\u001b[43m.\u001b[49m\u001b[43mendheaders\u001b[49m\u001b[43m(\u001b[49m\u001b[43m)\u001b[49m\n\u001b[32m    447\u001b[39m \u001b[38;5;66;03m# If we're given a body we start sending that in chunks.\u001b[39;00m\n",
      "\u001b[36mFile \u001b[39m\u001b[32m~\\AppData\\Local\\Programs\\Python\\Python312\\Lib\\http\\client.py:1331\u001b[39m, in \u001b[36mHTTPConnection.endheaders\u001b[39m\u001b[34m(self, message_body, encode_chunked)\u001b[39m\n\u001b[32m   1330\u001b[39m     \u001b[38;5;28;01mraise\u001b[39;00m CannotSendHeader()\n\u001b[32m-> \u001b[39m\u001b[32m1331\u001b[39m \u001b[38;5;28;43mself\u001b[39;49m\u001b[43m.\u001b[49m\u001b[43m_send_output\u001b[49m\u001b[43m(\u001b[49m\u001b[43mmessage_body\u001b[49m\u001b[43m,\u001b[49m\u001b[43m \u001b[49m\u001b[43mencode_chunked\u001b[49m\u001b[43m=\u001b[49m\u001b[43mencode_chunked\u001b[49m\u001b[43m)\u001b[49m\n",
      "\u001b[36mFile \u001b[39m\u001b[32m~\\AppData\\Local\\Programs\\Python\\Python312\\Lib\\http\\client.py:1091\u001b[39m, in \u001b[36mHTTPConnection._send_output\u001b[39m\u001b[34m(self, message_body, encode_chunked)\u001b[39m\n\u001b[32m   1090\u001b[39m \u001b[38;5;28;01mdel\u001b[39;00m \u001b[38;5;28mself\u001b[39m._buffer[:]\n\u001b[32m-> \u001b[39m\u001b[32m1091\u001b[39m \u001b[38;5;28;43mself\u001b[39;49m\u001b[43m.\u001b[49m\u001b[43msend\u001b[49m\u001b[43m(\u001b[49m\u001b[43mmsg\u001b[49m\u001b[43m)\u001b[49m\n\u001b[32m   1093\u001b[39m \u001b[38;5;28;01mif\u001b[39;00m message_body \u001b[38;5;129;01mis\u001b[39;00m \u001b[38;5;129;01mnot\u001b[39;00m \u001b[38;5;28;01mNone\u001b[39;00m:\n\u001b[32m   1094\u001b[39m \n\u001b[32m   1095\u001b[39m     \u001b[38;5;66;03m# create a consistent interface to message_body\u001b[39;00m\n",
      "\u001b[36mFile \u001b[39m\u001b[32m~\\AppData\\Local\\Programs\\Python\\Python312\\Lib\\http\\client.py:1035\u001b[39m, in \u001b[36mHTTPConnection.send\u001b[39m\u001b[34m(self, data)\u001b[39m\n\u001b[32m   1034\u001b[39m \u001b[38;5;28;01mif\u001b[39;00m \u001b[38;5;28mself\u001b[39m.auto_open:\n\u001b[32m-> \u001b[39m\u001b[32m1035\u001b[39m     \u001b[38;5;28;43mself\u001b[39;49m\u001b[43m.\u001b[49m\u001b[43mconnect\u001b[49m\u001b[43m(\u001b[49m\u001b[43m)\u001b[49m\n\u001b[32m   1036\u001b[39m \u001b[38;5;28;01melse\u001b[39;00m:\n",
      "\u001b[36mFile \u001b[39m\u001b[32mc:\\M2DSIA\\big data\\examenBigData\\env\\Lib\\site-packages\\urllib3\\connection.py:276\u001b[39m, in \u001b[36mHTTPConnection.connect\u001b[39m\u001b[34m(self)\u001b[39m\n\u001b[32m    275\u001b[39m \u001b[38;5;28;01mdef\u001b[39;00m\u001b[38;5;250m \u001b[39m\u001b[34mconnect\u001b[39m(\u001b[38;5;28mself\u001b[39m) -> \u001b[38;5;28;01mNone\u001b[39;00m:\n\u001b[32m--> \u001b[39m\u001b[32m276\u001b[39m     \u001b[38;5;28mself\u001b[39m.sock = \u001b[38;5;28;43mself\u001b[39;49m\u001b[43m.\u001b[49m\u001b[43m_new_conn\u001b[49m\u001b[43m(\u001b[49m\u001b[43m)\u001b[49m\n\u001b[32m    277\u001b[39m     \u001b[38;5;28;01mif\u001b[39;00m \u001b[38;5;28mself\u001b[39m._tunnel_host:\n\u001b[32m    278\u001b[39m         \u001b[38;5;66;03m# If we're tunneling it means we're connected to our proxy.\u001b[39;00m\n",
      "\u001b[36mFile \u001b[39m\u001b[32mc:\\M2DSIA\\big data\\examenBigData\\env\\Lib\\site-packages\\urllib3\\connection.py:205\u001b[39m, in \u001b[36mHTTPConnection._new_conn\u001b[39m\u001b[34m(self)\u001b[39m\n\u001b[32m    204\u001b[39m \u001b[38;5;28;01mexcept\u001b[39;00m socket.gaierror \u001b[38;5;28;01mas\u001b[39;00m e:\n\u001b[32m--> \u001b[39m\u001b[32m205\u001b[39m     \u001b[38;5;28;01mraise\u001b[39;00m NameResolutionError(\u001b[38;5;28mself\u001b[39m.host, \u001b[38;5;28mself\u001b[39m, e) \u001b[38;5;28;01mfrom\u001b[39;00m\u001b[38;5;250m \u001b[39m\u001b[34;01me\u001b[39;00m\n\u001b[32m    206\u001b[39m \u001b[38;5;28;01mexcept\u001b[39;00m SocketTimeout \u001b[38;5;28;01mas\u001b[39;00m e:\n",
      "\u001b[31mNameResolutionError\u001b[39m: <urllib3.connection.HTTPConnection object at 0x0000017735263A10>: Failed to resolve 'minio' ([Errno 11001] getaddrinfo failed)",
      "\nThe above exception was the direct cause of the following exception:\n",
      "\u001b[31mMaxRetryError\u001b[39m                             Traceback (most recent call last)",
      "\u001b[36mCell\u001b[39m\u001b[36m \u001b[39m\u001b[32mIn[5]\u001b[39m\u001b[32m, line 2\u001b[39m\n\u001b[32m      1\u001b[39m \u001b[38;5;66;03m# Vérifier si le bucket existe, sinon le créer\u001b[39;00m\n\u001b[32m----> \u001b[39m\u001b[32m2\u001b[39m \u001b[38;5;28;01mif\u001b[39;00m \u001b[38;5;129;01mnot\u001b[39;00m \u001b[43mminio_client\u001b[49m\u001b[43m.\u001b[49m\u001b[43mbucket_exists\u001b[49m\u001b[43m(\u001b[49m\u001b[43mBUCKET_NAME\u001b[49m\u001b[43m)\u001b[49m:\n\u001b[32m      3\u001b[39m     minio_client.make_bucket(BUCKET_NAME)\n\u001b[32m      4\u001b[39m     \u001b[38;5;28mprint\u001b[39m(\u001b[33mf\u001b[39m\u001b[33m\"\u001b[39m\u001b[33mBucket \u001b[39m\u001b[33m'\u001b[39m\u001b[38;5;132;01m{\u001b[39;00mBUCKET_NAME\u001b[38;5;132;01m}\u001b[39;00m\u001b[33m'\u001b[39m\u001b[33m créé avec succès.\u001b[39m\u001b[33m\"\u001b[39m)\n",
      "\u001b[36mFile \u001b[39m\u001b[32mc:\\M2DSIA\\big data\\examenBigData\\env\\Lib\\site-packages\\minio\\api.py:697\u001b[39m, in \u001b[36mMinio.bucket_exists\u001b[39m\u001b[34m(self, bucket_name)\u001b[39m\n\u001b[32m    695\u001b[39m check_bucket_name(bucket_name, s3_check=\u001b[38;5;28mself\u001b[39m._base_url.is_aws_host)\n\u001b[32m    696\u001b[39m \u001b[38;5;28;01mtry\u001b[39;00m:\n\u001b[32m--> \u001b[39m\u001b[32m697\u001b[39m     \u001b[38;5;28;43mself\u001b[39;49m\u001b[43m.\u001b[49m\u001b[43m_execute\u001b[49m\u001b[43m(\u001b[49m\u001b[33;43m\"\u001b[39;49m\u001b[33;43mHEAD\u001b[39;49m\u001b[33;43m\"\u001b[39;49m\u001b[43m,\u001b[49m\u001b[43m \u001b[49m\u001b[43mbucket_name\u001b[49m\u001b[43m)\u001b[49m\n\u001b[32m    698\u001b[39m     \u001b[38;5;28;01mreturn\u001b[39;00m \u001b[38;5;28;01mTrue\u001b[39;00m\n\u001b[32m    699\u001b[39m \u001b[38;5;28;01mexcept\u001b[39;00m S3Error \u001b[38;5;28;01mas\u001b[39;00m exc:\n",
      "\u001b[36mFile \u001b[39m\u001b[32mc:\\M2DSIA\\big data\\examenBigData\\env\\Lib\\site-packages\\minio\\api.py:438\u001b[39m, in \u001b[36mMinio._execute\u001b[39m\u001b[34m(self, method, bucket_name, object_name, body, headers, query_params, preload_content, no_body_trace)\u001b[39m\n\u001b[32m    426\u001b[39m \u001b[38;5;28;01mdef\u001b[39;00m\u001b[38;5;250m \u001b[39m\u001b[34m_execute\u001b[39m(\n\u001b[32m    427\u001b[39m         \u001b[38;5;28mself\u001b[39m,\n\u001b[32m    428\u001b[39m         method: \u001b[38;5;28mstr\u001b[39m,\n\u001b[32m   (...)\u001b[39m\u001b[32m    435\u001b[39m         no_body_trace: \u001b[38;5;28mbool\u001b[39m = \u001b[38;5;28;01mFalse\u001b[39;00m,\n\u001b[32m    436\u001b[39m ) -> BaseHTTPResponse:\n\u001b[32m    437\u001b[39m \u001b[38;5;250m    \u001b[39m\u001b[33;03m\"\"\"Execute HTTP request.\"\"\"\u001b[39;00m\n\u001b[32m--> \u001b[39m\u001b[32m438\u001b[39m     region = \u001b[38;5;28;43mself\u001b[39;49m\u001b[43m.\u001b[49m\u001b[43m_get_region\u001b[49m\u001b[43m(\u001b[49m\u001b[43mbucket_name\u001b[49m\u001b[43m)\u001b[49m\n\u001b[32m    440\u001b[39m     \u001b[38;5;28;01mtry\u001b[39;00m:\n\u001b[32m    441\u001b[39m         \u001b[38;5;28;01mreturn\u001b[39;00m \u001b[38;5;28mself\u001b[39m._url_open(\n\u001b[32m    442\u001b[39m             method,\n\u001b[32m    443\u001b[39m             region,\n\u001b[32m   (...)\u001b[39m\u001b[32m    450\u001b[39m             no_body_trace=no_body_trace,\n\u001b[32m    451\u001b[39m         )\n",
      "\u001b[36mFile \u001b[39m\u001b[32mc:\\M2DSIA\\big data\\examenBigData\\env\\Lib\\site-packages\\minio\\api.py:495\u001b[39m, in \u001b[36mMinio._get_region\u001b[39m\u001b[34m(self, bucket_name)\u001b[39m\n\u001b[32m    492\u001b[39m     \u001b[38;5;28;01mreturn\u001b[39;00m region\n\u001b[32m    494\u001b[39m \u001b[38;5;66;03m# Execute GetBucketLocation REST API to get region of the bucket.\u001b[39;00m\n\u001b[32m--> \u001b[39m\u001b[32m495\u001b[39m response = \u001b[38;5;28;43mself\u001b[39;49m\u001b[43m.\u001b[49m\u001b[43m_url_open\u001b[49m\u001b[43m(\u001b[49m\n\u001b[32m    496\u001b[39m \u001b[43m    \u001b[49m\u001b[33;43m\"\u001b[39;49m\u001b[33;43mGET\u001b[39;49m\u001b[33;43m\"\u001b[39;49m\u001b[43m,\u001b[49m\n\u001b[32m    497\u001b[39m \u001b[43m    \u001b[49m\u001b[33;43m\"\u001b[39;49m\u001b[33;43mus-east-1\u001b[39;49m\u001b[33;43m\"\u001b[39;49m\u001b[43m,\u001b[49m\n\u001b[32m    498\u001b[39m \u001b[43m    \u001b[49m\u001b[43mbucket_name\u001b[49m\u001b[43m=\u001b[49m\u001b[43mbucket_name\u001b[49m\u001b[43m,\u001b[49m\n\u001b[32m    499\u001b[39m \u001b[43m    \u001b[49m\u001b[43mquery_params\u001b[49m\u001b[43m=\u001b[49m\u001b[43m{\u001b[49m\u001b[33;43m\"\u001b[39;49m\u001b[33;43mlocation\u001b[39;49m\u001b[33;43m\"\u001b[39;49m\u001b[43m:\u001b[49m\u001b[43m \u001b[49m\u001b[33;43m\"\u001b[39;49m\u001b[33;43m\"\u001b[39;49m\u001b[43m}\u001b[49m\u001b[43m,\u001b[49m\n\u001b[32m    500\u001b[39m \u001b[43m\u001b[49m\u001b[43m)\u001b[49m\n\u001b[32m    502\u001b[39m element = ET.fromstring(response.data.decode())\n\u001b[32m    503\u001b[39m \u001b[38;5;28;01mif\u001b[39;00m \u001b[38;5;129;01mnot\u001b[39;00m element.text:\n",
      "\u001b[36mFile \u001b[39m\u001b[32mc:\\M2DSIA\\big data\\examenBigData\\env\\Lib\\site-packages\\minio\\api.py:303\u001b[39m, in \u001b[36mMinio._url_open\u001b[39m\u001b[34m(self, method, region, bucket_name, object_name, body, headers, query_params, preload_content, no_body_trace)\u001b[39m\n\u001b[32m    300\u001b[39m     \u001b[38;5;28;01melse\u001b[39;00m:\n\u001b[32m    301\u001b[39m         http_headers.add(key, value)\n\u001b[32m--> \u001b[39m\u001b[32m303\u001b[39m response = \u001b[38;5;28;43mself\u001b[39;49m\u001b[43m.\u001b[49m\u001b[43m_http\u001b[49m\u001b[43m.\u001b[49m\u001b[43murlopen\u001b[49m\u001b[43m(\u001b[49m\n\u001b[32m    304\u001b[39m \u001b[43m    \u001b[49m\u001b[43mmethod\u001b[49m\u001b[43m,\u001b[49m\n\u001b[32m    305\u001b[39m \u001b[43m    \u001b[49m\u001b[43murlunsplit\u001b[49m\u001b[43m(\u001b[49m\u001b[43murl\u001b[49m\u001b[43m)\u001b[49m\u001b[43m,\u001b[49m\n\u001b[32m    306\u001b[39m \u001b[43m    \u001b[49m\u001b[43mbody\u001b[49m\u001b[43m=\u001b[49m\u001b[43mbody\u001b[49m\u001b[43m,\u001b[49m\n\u001b[32m    307\u001b[39m \u001b[43m    \u001b[49m\u001b[43mheaders\u001b[49m\u001b[43m=\u001b[49m\u001b[43mhttp_headers\u001b[49m\u001b[43m,\u001b[49m\n\u001b[32m    308\u001b[39m \u001b[43m    \u001b[49m\u001b[43mpreload_content\u001b[49m\u001b[43m=\u001b[49m\u001b[43mpreload_content\u001b[49m\u001b[43m,\u001b[49m\n\u001b[32m    309\u001b[39m \u001b[43m\u001b[49m\u001b[43m)\u001b[49m\n\u001b[32m    311\u001b[39m \u001b[38;5;28;01mif\u001b[39;00m \u001b[38;5;28mself\u001b[39m._trace_stream:\n\u001b[32m    312\u001b[39m     \u001b[38;5;28mself\u001b[39m._trace_stream.write(\u001b[33mf\u001b[39m\u001b[33m\"\u001b[39m\u001b[33mHTTP/1.1 \u001b[39m\u001b[38;5;132;01m{\u001b[39;00mresponse.status\u001b[38;5;132;01m}\u001b[39;00m\u001b[38;5;130;01m\\n\u001b[39;00m\u001b[33m\"\u001b[39m)\n",
      "\u001b[36mFile \u001b[39m\u001b[32mc:\\M2DSIA\\big data\\examenBigData\\env\\Lib\\site-packages\\urllib3\\poolmanager.py:443\u001b[39m, in \u001b[36mPoolManager.urlopen\u001b[39m\u001b[34m(self, method, url, redirect, **kw)\u001b[39m\n\u001b[32m    441\u001b[39m     response = conn.urlopen(method, url, **kw)\n\u001b[32m    442\u001b[39m \u001b[38;5;28;01melse\u001b[39;00m:\n\u001b[32m--> \u001b[39m\u001b[32m443\u001b[39m     response = \u001b[43mconn\u001b[49m\u001b[43m.\u001b[49m\u001b[43murlopen\u001b[49m\u001b[43m(\u001b[49m\u001b[43mmethod\u001b[49m\u001b[43m,\u001b[49m\u001b[43m \u001b[49m\u001b[43mu\u001b[49m\u001b[43m.\u001b[49m\u001b[43mrequest_uri\u001b[49m\u001b[43m,\u001b[49m\u001b[43m \u001b[49m\u001b[43m*\u001b[49m\u001b[43m*\u001b[49m\u001b[43mkw\u001b[49m\u001b[43m)\u001b[49m\n\u001b[32m    445\u001b[39m redirect_location = redirect \u001b[38;5;129;01mand\u001b[39;00m response.get_redirect_location()\n\u001b[32m    446\u001b[39m \u001b[38;5;28;01mif\u001b[39;00m \u001b[38;5;129;01mnot\u001b[39;00m redirect_location:\n",
      "\u001b[36mFile \u001b[39m\u001b[32mc:\\M2DSIA\\big data\\examenBigData\\env\\Lib\\site-packages\\urllib3\\connectionpool.py:871\u001b[39m, in \u001b[36mHTTPConnectionPool.urlopen\u001b[39m\u001b[34m(self, method, url, body, headers, retries, redirect, assert_same_host, timeout, pool_timeout, release_conn, chunked, body_pos, preload_content, decode_content, **response_kw)\u001b[39m\n\u001b[32m    866\u001b[39m \u001b[38;5;28;01mif\u001b[39;00m \u001b[38;5;129;01mnot\u001b[39;00m conn:\n\u001b[32m    867\u001b[39m     \u001b[38;5;66;03m# Try again\u001b[39;00m\n\u001b[32m    868\u001b[39m     log.warning(\n\u001b[32m    869\u001b[39m         \u001b[33m\"\u001b[39m\u001b[33mRetrying (\u001b[39m\u001b[38;5;132;01m%r\u001b[39;00m\u001b[33m) after connection broken by \u001b[39m\u001b[33m'\u001b[39m\u001b[38;5;132;01m%r\u001b[39;00m\u001b[33m'\u001b[39m\u001b[33m: \u001b[39m\u001b[38;5;132;01m%s\u001b[39;00m\u001b[33m\"\u001b[39m, retries, err, url\n\u001b[32m    870\u001b[39m     )\n\u001b[32m--> \u001b[39m\u001b[32m871\u001b[39m     \u001b[38;5;28;01mreturn\u001b[39;00m \u001b[38;5;28;43mself\u001b[39;49m\u001b[43m.\u001b[49m\u001b[43murlopen\u001b[49m\u001b[43m(\u001b[49m\n\u001b[32m    872\u001b[39m \u001b[43m        \u001b[49m\u001b[43mmethod\u001b[49m\u001b[43m,\u001b[49m\n\u001b[32m    873\u001b[39m \u001b[43m        \u001b[49m\u001b[43murl\u001b[49m\u001b[43m,\u001b[49m\n\u001b[32m    874\u001b[39m \u001b[43m        \u001b[49m\u001b[43mbody\u001b[49m\u001b[43m,\u001b[49m\n\u001b[32m    875\u001b[39m \u001b[43m        \u001b[49m\u001b[43mheaders\u001b[49m\u001b[43m,\u001b[49m\n\u001b[32m    876\u001b[39m \u001b[43m        \u001b[49m\u001b[43mretries\u001b[49m\u001b[43m,\u001b[49m\n\u001b[32m    877\u001b[39m \u001b[43m        \u001b[49m\u001b[43mredirect\u001b[49m\u001b[43m,\u001b[49m\n\u001b[32m    878\u001b[39m \u001b[43m        \u001b[49m\u001b[43massert_same_host\u001b[49m\u001b[43m,\u001b[49m\n\u001b[32m    879\u001b[39m \u001b[43m        \u001b[49m\u001b[43mtimeout\u001b[49m\u001b[43m=\u001b[49m\u001b[43mtimeout\u001b[49m\u001b[43m,\u001b[49m\n\u001b[32m    880\u001b[39m \u001b[43m        \u001b[49m\u001b[43mpool_timeout\u001b[49m\u001b[43m=\u001b[49m\u001b[43mpool_timeout\u001b[49m\u001b[43m,\u001b[49m\n\u001b[32m    881\u001b[39m \u001b[43m        \u001b[49m\u001b[43mrelease_conn\u001b[49m\u001b[43m=\u001b[49m\u001b[43mrelease_conn\u001b[49m\u001b[43m,\u001b[49m\n\u001b[32m    882\u001b[39m \u001b[43m        \u001b[49m\u001b[43mchunked\u001b[49m\u001b[43m=\u001b[49m\u001b[43mchunked\u001b[49m\u001b[43m,\u001b[49m\n\u001b[32m    883\u001b[39m \u001b[43m        \u001b[49m\u001b[43mbody_pos\u001b[49m\u001b[43m=\u001b[49m\u001b[43mbody_pos\u001b[49m\u001b[43m,\u001b[49m\n\u001b[32m    884\u001b[39m \u001b[43m        \u001b[49m\u001b[43mpreload_content\u001b[49m\u001b[43m=\u001b[49m\u001b[43mpreload_content\u001b[49m\u001b[43m,\u001b[49m\n\u001b[32m    885\u001b[39m \u001b[43m        \u001b[49m\u001b[43mdecode_content\u001b[49m\u001b[43m=\u001b[49m\u001b[43mdecode_content\u001b[49m\u001b[43m,\u001b[49m\n\u001b[32m    886\u001b[39m \u001b[43m        \u001b[49m\u001b[43m*\u001b[49m\u001b[43m*\u001b[49m\u001b[43mresponse_kw\u001b[49m\u001b[43m,\u001b[49m\n\u001b[32m    887\u001b[39m \u001b[43m    \u001b[49m\u001b[43m)\u001b[49m\n\u001b[32m    889\u001b[39m \u001b[38;5;66;03m# Handle redirect?\u001b[39;00m\n\u001b[32m    890\u001b[39m redirect_location = redirect \u001b[38;5;129;01mand\u001b[39;00m response.get_redirect_location()\n",
      "\u001b[36mFile \u001b[39m\u001b[32mc:\\M2DSIA\\big data\\examenBigData\\env\\Lib\\site-packages\\urllib3\\connectionpool.py:871\u001b[39m, in \u001b[36mHTTPConnectionPool.urlopen\u001b[39m\u001b[34m(self, method, url, body, headers, retries, redirect, assert_same_host, timeout, pool_timeout, release_conn, chunked, body_pos, preload_content, decode_content, **response_kw)\u001b[39m\n\u001b[32m    866\u001b[39m \u001b[38;5;28;01mif\u001b[39;00m \u001b[38;5;129;01mnot\u001b[39;00m conn:\n\u001b[32m    867\u001b[39m     \u001b[38;5;66;03m# Try again\u001b[39;00m\n\u001b[32m    868\u001b[39m     log.warning(\n\u001b[32m    869\u001b[39m         \u001b[33m\"\u001b[39m\u001b[33mRetrying (\u001b[39m\u001b[38;5;132;01m%r\u001b[39;00m\u001b[33m) after connection broken by \u001b[39m\u001b[33m'\u001b[39m\u001b[38;5;132;01m%r\u001b[39;00m\u001b[33m'\u001b[39m\u001b[33m: \u001b[39m\u001b[38;5;132;01m%s\u001b[39;00m\u001b[33m\"\u001b[39m, retries, err, url\n\u001b[32m    870\u001b[39m     )\n\u001b[32m--> \u001b[39m\u001b[32m871\u001b[39m     \u001b[38;5;28;01mreturn\u001b[39;00m \u001b[38;5;28;43mself\u001b[39;49m\u001b[43m.\u001b[49m\u001b[43murlopen\u001b[49m\u001b[43m(\u001b[49m\n\u001b[32m    872\u001b[39m \u001b[43m        \u001b[49m\u001b[43mmethod\u001b[49m\u001b[43m,\u001b[49m\n\u001b[32m    873\u001b[39m \u001b[43m        \u001b[49m\u001b[43murl\u001b[49m\u001b[43m,\u001b[49m\n\u001b[32m    874\u001b[39m \u001b[43m        \u001b[49m\u001b[43mbody\u001b[49m\u001b[43m,\u001b[49m\n\u001b[32m    875\u001b[39m \u001b[43m        \u001b[49m\u001b[43mheaders\u001b[49m\u001b[43m,\u001b[49m\n\u001b[32m    876\u001b[39m \u001b[43m        \u001b[49m\u001b[43mretries\u001b[49m\u001b[43m,\u001b[49m\n\u001b[32m    877\u001b[39m \u001b[43m        \u001b[49m\u001b[43mredirect\u001b[49m\u001b[43m,\u001b[49m\n\u001b[32m    878\u001b[39m \u001b[43m        \u001b[49m\u001b[43massert_same_host\u001b[49m\u001b[43m,\u001b[49m\n\u001b[32m    879\u001b[39m \u001b[43m        \u001b[49m\u001b[43mtimeout\u001b[49m\u001b[43m=\u001b[49m\u001b[43mtimeout\u001b[49m\u001b[43m,\u001b[49m\n\u001b[32m    880\u001b[39m \u001b[43m        \u001b[49m\u001b[43mpool_timeout\u001b[49m\u001b[43m=\u001b[49m\u001b[43mpool_timeout\u001b[49m\u001b[43m,\u001b[49m\n\u001b[32m    881\u001b[39m \u001b[43m        \u001b[49m\u001b[43mrelease_conn\u001b[49m\u001b[43m=\u001b[49m\u001b[43mrelease_conn\u001b[49m\u001b[43m,\u001b[49m\n\u001b[32m    882\u001b[39m \u001b[43m        \u001b[49m\u001b[43mchunked\u001b[49m\u001b[43m=\u001b[49m\u001b[43mchunked\u001b[49m\u001b[43m,\u001b[49m\n\u001b[32m    883\u001b[39m \u001b[43m        \u001b[49m\u001b[43mbody_pos\u001b[49m\u001b[43m=\u001b[49m\u001b[43mbody_pos\u001b[49m\u001b[43m,\u001b[49m\n\u001b[32m    884\u001b[39m \u001b[43m        \u001b[49m\u001b[43mpreload_content\u001b[49m\u001b[43m=\u001b[49m\u001b[43mpreload_content\u001b[49m\u001b[43m,\u001b[49m\n\u001b[32m    885\u001b[39m \u001b[43m        \u001b[49m\u001b[43mdecode_content\u001b[49m\u001b[43m=\u001b[49m\u001b[43mdecode_content\u001b[49m\u001b[43m,\u001b[49m\n\u001b[32m    886\u001b[39m \u001b[43m        \u001b[49m\u001b[43m*\u001b[49m\u001b[43m*\u001b[49m\u001b[43mresponse_kw\u001b[49m\u001b[43m,\u001b[49m\n\u001b[32m    887\u001b[39m \u001b[43m    \u001b[49m\u001b[43m)\u001b[49m\n\u001b[32m    889\u001b[39m \u001b[38;5;66;03m# Handle redirect?\u001b[39;00m\n\u001b[32m    890\u001b[39m redirect_location = redirect \u001b[38;5;129;01mand\u001b[39;00m response.get_redirect_location()\n",
      "    \u001b[31m[... skipping similar frames: HTTPConnectionPool.urlopen at line 871 (2 times)]\u001b[39m\n",
      "\u001b[36mFile \u001b[39m\u001b[32mc:\\M2DSIA\\big data\\examenBigData\\env\\Lib\\site-packages\\urllib3\\connectionpool.py:871\u001b[39m, in \u001b[36mHTTPConnectionPool.urlopen\u001b[39m\u001b[34m(self, method, url, body, headers, retries, redirect, assert_same_host, timeout, pool_timeout, release_conn, chunked, body_pos, preload_content, decode_content, **response_kw)\u001b[39m\n\u001b[32m    866\u001b[39m \u001b[38;5;28;01mif\u001b[39;00m \u001b[38;5;129;01mnot\u001b[39;00m conn:\n\u001b[32m    867\u001b[39m     \u001b[38;5;66;03m# Try again\u001b[39;00m\n\u001b[32m    868\u001b[39m     log.warning(\n\u001b[32m    869\u001b[39m         \u001b[33m\"\u001b[39m\u001b[33mRetrying (\u001b[39m\u001b[38;5;132;01m%r\u001b[39;00m\u001b[33m) after connection broken by \u001b[39m\u001b[33m'\u001b[39m\u001b[38;5;132;01m%r\u001b[39;00m\u001b[33m'\u001b[39m\u001b[33m: \u001b[39m\u001b[38;5;132;01m%s\u001b[39;00m\u001b[33m\"\u001b[39m, retries, err, url\n\u001b[32m    870\u001b[39m     )\n\u001b[32m--> \u001b[39m\u001b[32m871\u001b[39m     \u001b[38;5;28;01mreturn\u001b[39;00m \u001b[38;5;28;43mself\u001b[39;49m\u001b[43m.\u001b[49m\u001b[43murlopen\u001b[49m\u001b[43m(\u001b[49m\n\u001b[32m    872\u001b[39m \u001b[43m        \u001b[49m\u001b[43mmethod\u001b[49m\u001b[43m,\u001b[49m\n\u001b[32m    873\u001b[39m \u001b[43m        \u001b[49m\u001b[43murl\u001b[49m\u001b[43m,\u001b[49m\n\u001b[32m    874\u001b[39m \u001b[43m        \u001b[49m\u001b[43mbody\u001b[49m\u001b[43m,\u001b[49m\n\u001b[32m    875\u001b[39m \u001b[43m        \u001b[49m\u001b[43mheaders\u001b[49m\u001b[43m,\u001b[49m\n\u001b[32m    876\u001b[39m \u001b[43m        \u001b[49m\u001b[43mretries\u001b[49m\u001b[43m,\u001b[49m\n\u001b[32m    877\u001b[39m \u001b[43m        \u001b[49m\u001b[43mredirect\u001b[49m\u001b[43m,\u001b[49m\n\u001b[32m    878\u001b[39m \u001b[43m        \u001b[49m\u001b[43massert_same_host\u001b[49m\u001b[43m,\u001b[49m\n\u001b[32m    879\u001b[39m \u001b[43m        \u001b[49m\u001b[43mtimeout\u001b[49m\u001b[43m=\u001b[49m\u001b[43mtimeout\u001b[49m\u001b[43m,\u001b[49m\n\u001b[32m    880\u001b[39m \u001b[43m        \u001b[49m\u001b[43mpool_timeout\u001b[49m\u001b[43m=\u001b[49m\u001b[43mpool_timeout\u001b[49m\u001b[43m,\u001b[49m\n\u001b[32m    881\u001b[39m \u001b[43m        \u001b[49m\u001b[43mrelease_conn\u001b[49m\u001b[43m=\u001b[49m\u001b[43mrelease_conn\u001b[49m\u001b[43m,\u001b[49m\n\u001b[32m    882\u001b[39m \u001b[43m        \u001b[49m\u001b[43mchunked\u001b[49m\u001b[43m=\u001b[49m\u001b[43mchunked\u001b[49m\u001b[43m,\u001b[49m\n\u001b[32m    883\u001b[39m \u001b[43m        \u001b[49m\u001b[43mbody_pos\u001b[49m\u001b[43m=\u001b[49m\u001b[43mbody_pos\u001b[49m\u001b[43m,\u001b[49m\n\u001b[32m    884\u001b[39m \u001b[43m        \u001b[49m\u001b[43mpreload_content\u001b[49m\u001b[43m=\u001b[49m\u001b[43mpreload_content\u001b[49m\u001b[43m,\u001b[49m\n\u001b[32m    885\u001b[39m \u001b[43m        \u001b[49m\u001b[43mdecode_content\u001b[49m\u001b[43m=\u001b[49m\u001b[43mdecode_content\u001b[49m\u001b[43m,\u001b[49m\n\u001b[32m    886\u001b[39m \u001b[43m        \u001b[49m\u001b[43m*\u001b[49m\u001b[43m*\u001b[49m\u001b[43mresponse_kw\u001b[49m\u001b[43m,\u001b[49m\n\u001b[32m    887\u001b[39m \u001b[43m    \u001b[49m\u001b[43m)\u001b[49m\n\u001b[32m    889\u001b[39m \u001b[38;5;66;03m# Handle redirect?\u001b[39;00m\n\u001b[32m    890\u001b[39m redirect_location = redirect \u001b[38;5;129;01mand\u001b[39;00m response.get_redirect_location()\n",
      "\u001b[36mFile \u001b[39m\u001b[32mc:\\M2DSIA\\big data\\examenBigData\\env\\Lib\\site-packages\\urllib3\\connectionpool.py:841\u001b[39m, in \u001b[36mHTTPConnectionPool.urlopen\u001b[39m\u001b[34m(self, method, url, body, headers, retries, redirect, assert_same_host, timeout, pool_timeout, release_conn, chunked, body_pos, preload_content, decode_content, **response_kw)\u001b[39m\n\u001b[32m    838\u001b[39m \u001b[38;5;28;01melif\u001b[39;00m \u001b[38;5;28misinstance\u001b[39m(new_e, (\u001b[38;5;167;01mOSError\u001b[39;00m, HTTPException)):\n\u001b[32m    839\u001b[39m     new_e = ProtocolError(\u001b[33m\"\u001b[39m\u001b[33mConnection aborted.\u001b[39m\u001b[33m\"\u001b[39m, new_e)\n\u001b[32m--> \u001b[39m\u001b[32m841\u001b[39m retries = \u001b[43mretries\u001b[49m\u001b[43m.\u001b[49m\u001b[43mincrement\u001b[49m\u001b[43m(\u001b[49m\n\u001b[32m    842\u001b[39m \u001b[43m    \u001b[49m\u001b[43mmethod\u001b[49m\u001b[43m,\u001b[49m\u001b[43m \u001b[49m\u001b[43murl\u001b[49m\u001b[43m,\u001b[49m\u001b[43m \u001b[49m\u001b[43merror\u001b[49m\u001b[43m=\u001b[49m\u001b[43mnew_e\u001b[49m\u001b[43m,\u001b[49m\u001b[43m \u001b[49m\u001b[43m_pool\u001b[49m\u001b[43m=\u001b[49m\u001b[38;5;28;43mself\u001b[39;49m\u001b[43m,\u001b[49m\u001b[43m \u001b[49m\u001b[43m_stacktrace\u001b[49m\u001b[43m=\u001b[49m\u001b[43msys\u001b[49m\u001b[43m.\u001b[49m\u001b[43mexc_info\u001b[49m\u001b[43m(\u001b[49m\u001b[43m)\u001b[49m\u001b[43m[\u001b[49m\u001b[32;43m2\u001b[39;49m\u001b[43m]\u001b[49m\n\u001b[32m    843\u001b[39m \u001b[43m\u001b[49m\u001b[43m)\u001b[49m\n\u001b[32m    844\u001b[39m retries.sleep()\n\u001b[32m    846\u001b[39m \u001b[38;5;66;03m# Keep track of the error for the retry warning.\u001b[39;00m\n",
      "\u001b[36mFile \u001b[39m\u001b[32mc:\\M2DSIA\\big data\\examenBigData\\env\\Lib\\site-packages\\urllib3\\util\\retry.py:519\u001b[39m, in \u001b[36mRetry.increment\u001b[39m\u001b[34m(self, method, url, response, error, _pool, _stacktrace)\u001b[39m\n\u001b[32m    517\u001b[39m \u001b[38;5;28;01mif\u001b[39;00m new_retry.is_exhausted():\n\u001b[32m    518\u001b[39m     reason = error \u001b[38;5;129;01mor\u001b[39;00m ResponseError(cause)\n\u001b[32m--> \u001b[39m\u001b[32m519\u001b[39m     \u001b[38;5;28;01mraise\u001b[39;00m MaxRetryError(_pool, url, reason) \u001b[38;5;28;01mfrom\u001b[39;00m\u001b[38;5;250m \u001b[39m\u001b[34;01mreason\u001b[39;00m  \u001b[38;5;66;03m# type: ignore[arg-type]\u001b[39;00m\n\u001b[32m    521\u001b[39m log.debug(\u001b[33m\"\u001b[39m\u001b[33mIncremented Retry for (url=\u001b[39m\u001b[33m'\u001b[39m\u001b[38;5;132;01m%s\u001b[39;00m\u001b[33m'\u001b[39m\u001b[33m): \u001b[39m\u001b[38;5;132;01m%r\u001b[39;00m\u001b[33m\"\u001b[39m, url, new_retry)\n\u001b[32m    523\u001b[39m \u001b[38;5;28;01mreturn\u001b[39;00m new_retry\n",
      "\u001b[31mMaxRetryError\u001b[39m: HTTPConnectionPool(host='minio', port=9000): Max retries exceeded with url: /accidents?location= (Caused by NameResolutionError(\"<urllib3.connection.HTTPConnection object at 0x0000017735263A10>: Failed to resolve 'minio' ([Errno 11001] getaddrinfo failed)\"))"
     ]
    }
   ],
   "source": [
    "# Vérifier si le bucket existe, sinon le créer\n",
    "if not minio_client.bucket_exists(BUCKET_NAME):\n",
    "    minio_client.make_bucket(BUCKET_NAME)\n",
    "    print(f\"Bucket '{BUCKET_NAME}' créé avec succès.\")\n",
    "else:\n",
    "    print(f\"Bucket '{BUCKET_NAME}' déjà existant.\")\n"
   ]
  },
  {
   "cell_type": "code",
   "execution_count": null,
   "id": "dcf7d2a8-ad90-441b-9ac8-e94c97cb09f0",
   "metadata": {},
   "outputs": [
    {
     "name": "stdout",
     "output_type": "stream",
     "text": [
      "📤 Fichier Motor_Vehicle_Crashes_-_Vehicle_Information__Three_Year_Window(1).csv uploadé avec succès dans MinIO.\n"
     ]
    }
   ],
   "source": [
    "# Upload du fichier dans MinIO\n",
    "minio_client.fput_object(BUCKET_NAME, FILE_NAME, LOCAL_FILE_PATH)\n",
    "print(f\" Fichier {FILE_NAME} uploadé avec succès dans MinIO.\")"
   ]
  },
  {
   "cell_type": "code",
   "execution_count": null,
   "id": "ed582244-ae94-432b-b600-2e39a42b079a",
   "metadata": {},
   "outputs": [
    {
     "name": "stdout",
     "output_type": "stream",
     "text": [
      "📥 Fichier Motor_Vehicle_Crashes_-_Vehicle_Information__Three_Year_Window(1).csv téléchargé depuis MinIO sous './data/Motor_Vehicle_Crashes_-_Vehicle_Information__Three_Year_Window(1).csv_downloaded.csv'.\n"
     ]
    }
   ],
   "source": [
    "# Télécharger le fichier depuis MinIO\n",
    "minio_client.fget_object(BUCKET_NAME, FILE_NAME, DOWNLOAD_PATH)\n",
    "print(f\" Fichier {FILE_NAME} téléchargé depuis MinIO sous '{DOWNLOAD_PATH}'.\")"
   ]
  },
  {
   "cell_type": "code",
   "execution_count": null,
   "id": "6f5d6826-af4f-4e37-a12d-94827add1877",
   "metadata": {},
   "outputs": [
    {
     "name": "stdout",
     "output_type": "stream",
     "text": [
      "📂 Fichiers dans MinIO:\n",
      "- Motor_Vehicle_Crashes_-_Vehicle_Information__Three_Year_Window(1).csv\n"
     ]
    }
   ],
   "source": [
    "# Lister les fichiers dans le bucket\n",
    "objects = minio_client.list_objects(BUCKET_NAME)\n",
    "print(\" Fichiers dans MinIO:\")\n",
    "for obj in objects:\n",
    "    print(f\"- {obj.object_name}\")\n"
   ]
  },
  {
   "cell_type": "code",
   "execution_count": null,
   "id": "a972cf92-5bcb-47d0-a001-3a57d04da854",
   "metadata": {},
   "outputs": [
    {
     "name": "stdout",
     "output_type": "stream",
     "text": [
      "🔍 Aperçu des données:\n",
      "shape: (5, 19)\n",
      "┌──────┬─────────────────┬───────────────────┬───────────────────────┬───┬──────────────┬───────────────────────┬──────────────────────┬───────────────────┐\n",
      "│ Year ┆ Case Vehicle ID ┆ Vehicle Body Type ┆ Registration Class    ┆ … ┆ Contributing ┆ Contributing Factor 2 ┆ Event Type           ┆ Partial VIN       │\n",
      "│ ---  ┆ ---             ┆ ---               ┆ ---                   ┆   ┆ Factor 2     ┆ Descript…             ┆ ---                  ┆ ---               │\n",
      "│ i64  ┆ i64             ┆ str               ┆ str                   ┆   ┆ ---          ┆ ---                   ┆ str                  ┆ str               │\n",
      "│      ┆                 ┆                   ┆                       ┆   ┆ str          ┆ str                   ┆                      ┆                   │\n",
      "╞══════╪═════════════════╪═══════════════════╪═══════════════════════╪═══╪══════════════╪═══════════════════════╪══════════════════════╪═══════════════════╡\n",
      "│ 2021 ┆ 18127660        ┆ UNKNOWN VEHICLE   ┆ Not Entered           ┆ … ┆ HUMAN        ┆ Unknown               ┆ Not Entered          ┆ null              │\n",
      "│ 2021 ┆ 18126564        ┆ SUBURBAN          ┆ PASSENGER OR SUBURBAN ┆ … ┆ HUMAN        ┆ Not Entered           ┆ Other Motor Vehicle, ┆ JM3KFBCM4L0771428 │\n",
      "│      ┆                 ┆                   ┆                       ┆   ┆              ┆                       ┆ Collision…           ┆                   │\n",
      "│ 2021 ┆ 18126574        ┆ SUBURBAN          ┆ PASSENGER OR SUBURBAN ┆ … ┆ HUMAN        ┆ Not Entered           ┆ Not Entered          ┆ KM8J3CA40LU281000 │\n",
      "│ 2021 ┆ 18126575        ┆ SEDAN             ┆ Not Entered           ┆ … ┆ HUMAN        ┆ Driver Inattention/Di ┆ Not Entered          ┆ null              │\n",
      "│      ┆                 ┆                   ┆                       ┆   ┆              ┆ straction…            ┆                      ┆                   │\n",
      "│ 2021 ┆ 18126577        ┆ SUBURBAN          ┆ Not Entered           ┆ … ┆ HUMAN        ┆ Driver Inexperience*  ┆ Not Entered          ┆ null              │\n",
      "└──────┴─────────────────┴───────────────────┴───────────────────────┴───┴──────────────┴───────────────────────┴──────────────────────┴───────────────────┘\n"
     ]
    }
   ],
   "source": [
    "# Charger et afficher les données avec Polars\n",
    "df = pl.read_csv(DOWNLOAD_PATH)\n",
    "print(\" Aperçu des données:\")\n",
    "print(df.head())"
   ]
  },
  {
   "cell_type": "code",
   "execution_count": 10,
   "id": "893e55e2-117f-4f00-b79a-6befb88c2b25",
   "metadata": {},
   "outputs": [
    {
     "data": {
      "text/plain": [
       "(3551191, 19)"
      ]
     },
     "execution_count": 10,
     "metadata": {},
     "output_type": "execute_result"
    }
   ],
   "source": [
    "df.shape"
   ]
  },
  {
   "cell_type": "code",
   "execution_count": 11,
   "id": "edc52c89-aa29-49d8-86a6-f2b676c83c96",
   "metadata": {},
   "outputs": [
    {
     "data": {
      "text/plain": [
       "Schema([('Year', Int64),\n",
       "        ('Case Vehicle ID', Int64),\n",
       "        ('Vehicle Body Type', String),\n",
       "        ('Registration Class', String),\n",
       "        ('Action Prior to Accident', String),\n",
       "        ('Type / Axles of Truck or Bus', String),\n",
       "        ('Direction of Travel', String),\n",
       "        ('Fuel Type', String),\n",
       "        ('Vehicle Year', Int64),\n",
       "        ('State of Registration', String),\n",
       "        ('Number of Occupants', Int64),\n",
       "        ('Engine Cylinders', Int64),\n",
       "        ('Vehicle Make', String),\n",
       "        ('Contributing Factor 1', String),\n",
       "        ('Contributing Factor 1 Description', String),\n",
       "        ('Contributing Factor 2', String),\n",
       "        ('Contributing Factor 2 Description', String),\n",
       "        ('Event Type', String),\n",
       "        ('Partial VIN', String)])"
      ]
     },
     "execution_count": 11,
     "metadata": {},
     "output_type": "execute_result"
    }
   ],
   "source": [
    "df.schema"
   ]
  },
  {
   "cell_type": "code",
   "execution_count": 30,
   "id": "6402a525-fa82-4bf9-ae98-4d2112d8de1f",
   "metadata": {},
   "outputs": [
    {
     "data": {
      "text/html": [
       "<div><style>\n",
       ".dataframe > thead > tr,\n",
       ".dataframe > tbody > tr {\n",
       "  text-align: right;\n",
       "  white-space: pre-wrap;\n",
       "}\n",
       "</style>\n",
       "<small>shape: (1, 19)</small><table border=\"1\" class=\"dataframe\"><thead><tr><th>Year</th><th>Case Vehicle ID</th><th>Vehicle Body Type</th><th>Registration Class</th><th>Action Prior to Accident</th><th>Type / Axles of Truck or Bus</th><th>Direction of Travel</th><th>Fuel Type</th><th>Vehicle Year</th><th>State of Registration</th><th>Number of Occupants</th><th>Engine Cylinders</th><th>Vehicle Make</th><th>Contributing Factor 1</th><th>Contributing Factor 1 Description</th><th>Contributing Factor 2</th><th>Contributing Factor 2 Description</th><th>Event Type</th><th>Partial VIN</th></tr><tr><td>u32</td><td>u32</td><td>u32</td><td>u32</td><td>u32</td><td>u32</td><td>u32</td><td>u32</td><td>u32</td><td>u32</td><td>u32</td><td>u32</td><td>u32</td><td>u32</td><td>u32</td><td>u32</td><td>u32</td><td>u32</td><td>u32</td></tr></thead><tbody><tr><td>0</td><td>0</td><td>0</td><td>0</td><td>0</td><td>0</td><td>0</td><td>0</td><td>647036</td><td>310389</td><td>363097</td><td>851040</td><td>643121</td><td>0</td><td>0</td><td>0</td><td>0</td><td>71325</td><td>720590</td></tr></tbody></table></div>"
      ],
      "text/plain": [
       "shape: (1, 19)\n",
       "┌──────┬─────────────────┬───────────────────┬────────────────────┬───┬───────────────────────┬─────────────────────────────────┬────────────┬─────────────┐\n",
       "│ Year ┆ Case Vehicle ID ┆ Vehicle Body Type ┆ Registration Class ┆ … ┆ Contributing Factor 2 ┆ Contributing Factor 2 Descript… ┆ Event Type ┆ Partial VIN │\n",
       "│ ---  ┆ ---             ┆ ---               ┆ ---                ┆   ┆ ---                   ┆ ---                             ┆ ---        ┆ ---         │\n",
       "│ u32  ┆ u32             ┆ u32               ┆ u32                ┆   ┆ u32                   ┆ u32                             ┆ u32        ┆ u32         │\n",
       "╞══════╪═════════════════╪═══════════════════╪════════════════════╪═══╪═══════════════════════╪═════════════════════════════════╪════════════╪═════════════╡\n",
       "│ 0    ┆ 0               ┆ 0                 ┆ 0                  ┆ … ┆ 0                     ┆ 0                               ┆ 71325      ┆ 720590      │\n",
       "└──────┴─────────────────┴───────────────────┴────────────────────┴───┴───────────────────────┴─────────────────────────────────┴────────────┴─────────────┘"
      ]
     },
     "execution_count": 30,
     "metadata": {},
     "output_type": "execute_result"
    }
   ],
   "source": [
    "df.null_count().sum()"
   ]
  },
  {
   "cell_type": "code",
   "execution_count": 32,
   "id": "c6b70aac-3e9f-4695-a3d5-234799898c04",
   "metadata": {},
   "outputs": [
    {
     "data": {
      "text/html": [
       "<div><style>\n",
       ".dataframe > thead > tr,\n",
       ".dataframe > tbody > tr {\n",
       "  text-align: right;\n",
       "  white-space: pre-wrap;\n",
       "}\n",
       "</style>\n",
       "<small>shape: (9, 20)</small><table border=\"1\" class=\"dataframe\"><thead><tr><th>statistic</th><th>Year</th><th>Case Vehicle ID</th><th>Vehicle Body Type</th><th>Registration Class</th><th>Action Prior to Accident</th><th>Type / Axles of Truck or Bus</th><th>Direction of Travel</th><th>Fuel Type</th><th>Vehicle Year</th><th>State of Registration</th><th>Number of Occupants</th><th>Engine Cylinders</th><th>Vehicle Make</th><th>Contributing Factor 1</th><th>Contributing Factor 1 Description</th><th>Contributing Factor 2</th><th>Contributing Factor 2 Description</th><th>Event Type</th><th>Partial VIN</th></tr><tr><td>str</td><td>f64</td><td>f64</td><td>str</td><td>str</td><td>str</td><td>str</td><td>str</td><td>str</td><td>f64</td><td>str</td><td>f64</td><td>f64</td><td>str</td><td>str</td><td>str</td><td>str</td><td>str</td><td>str</td><td>str</td></tr></thead><tbody><tr><td>&quot;count&quot;</td><td>3.551191e6</td><td>3.551191e6</td><td>&quot;3551191&quot;</td><td>&quot;3551191&quot;</td><td>&quot;3551191&quot;</td><td>&quot;3551191&quot;</td><td>&quot;3551191&quot;</td><td>&quot;3551191&quot;</td><td>2.904155e6</td><td>&quot;3240802&quot;</td><td>3.188094e6</td><td>2.700151e6</td><td>&quot;2908070&quot;</td><td>&quot;3551191&quot;</td><td>&quot;3551191&quot;</td><td>&quot;3551191&quot;</td><td>&quot;3551191&quot;</td><td>&quot;3479866&quot;</td><td>&quot;2830601&quot;</td></tr><tr><td>&quot;null_count&quot;</td><td>0.0</td><td>0.0</td><td>&quot;0&quot;</td><td>&quot;0&quot;</td><td>&quot;0&quot;</td><td>&quot;0&quot;</td><td>&quot;0&quot;</td><td>&quot;0&quot;</td><td>647036.0</td><td>&quot;310389&quot;</td><td>363097.0</td><td>851040.0</td><td>&quot;643121&quot;</td><td>&quot;0&quot;</td><td>&quot;0&quot;</td><td>&quot;0&quot;</td><td>&quot;0&quot;</td><td>&quot;71325&quot;</td><td>&quot;720590&quot;</td></tr><tr><td>&quot;mean&quot;</td><td>2020.960034</td><td>1.8634e7</td><td>null</td><td>null</td><td>null</td><td>null</td><td>null</td><td>null</td><td>2013.284109</td><td>null</td><td>1.231648</td><td>5.115332</td><td>null</td><td>null</td><td>null</td><td>null</td><td>null</td><td>null</td><td>null</td></tr><tr><td>&quot;std&quot;</td><td>1.450807</td><td>1.2911e6</td><td>null</td><td>null</td><td>null</td><td>null</td><td>null</td><td>null</td><td>6.374365</td><td>null</td><td>1.222841</td><td>1.464921</td><td>null</td><td>null</td><td>null</td><td>null</td><td>null</td><td>null</td><td>null</td></tr><tr><td>&quot;min&quot;</td><td>2019.0</td><td>1.5350252e7</td><td>&quot;2 DOOR SEDAN&quot;</td><td>&quot;AGRICULTURAL COMMERCIAL&quot;</td><td>&quot;Avoiding Object in Roadway&quot;</td><td>&quot;2 axle box trailer and 3 axle …</td><td>&quot;East&quot;</td><td>&quot;Compressed Natural Gas&quot;</td><td>20.0</td><td>&quot;AB&quot;</td><td>0.0</td><td>0.0</td><td>&quot;A&quot;</td><td>&quot;ENVMT&quot;</td><td>&quot;Accelerator Defective&quot;</td><td>&quot;ENVMT&quot;</td><td>&quot;Accelerator Defective&quot;</td><td>&quot;Animal, Collision With&quot;</td><td>&quot;0&quot;</td></tr><tr><td>&quot;25%&quot;</td><td>2020.0</td><td>1.7518829e7</td><td>null</td><td>null</td><td>null</td><td>null</td><td>null</td><td>null</td><td>2009.0</td><td>null</td><td>1.0</td><td>4.0</td><td>null</td><td>null</td><td>null</td><td>null</td><td>null</td><td>null</td><td>null</td></tr><tr><td>&quot;50%&quot;</td><td>2021.0</td><td>1.8657414e7</td><td>null</td><td>null</td><td>null</td><td>null</td><td>null</td><td>null</td><td>2015.0</td><td>null</td><td>1.0</td><td>4.0</td><td>null</td><td>null</td><td>null</td><td>null</td><td>null</td><td>null</td><td>null</td></tr><tr><td>&quot;75%&quot;</td><td>2022.0</td><td>1.974777e7</td><td>null</td><td>null</td><td>null</td><td>null</td><td>null</td><td>null</td><td>2018.0</td><td>null</td><td>1.0</td><td>6.0</td><td>null</td><td>null</td><td>null</td><td>null</td><td>null</td><td>null</td><td>null</td></tr><tr><td>&quot;max&quot;</td><td>2023.0</td><td>2.1380596e7</td><td>&quot;WELL SERVICING RIG&quot;</td><td>&quot;VAS VOLUNTEER AMBULANCE&quot;</td><td>&quot;Unknown&quot;</td><td>&quot;Unknown&quot;</td><td>&quot;West&quot;</td><td>&quot;Propane&quot;</td><td>2024.0</td><td>&quot;ZS&quot;</td><td>687.0</td><td>16.0</td><td>&quot;ZZ&quot;</td><td>&quot;VEHICLE&quot;</td><td>&quot;Windshield Inadequate&quot;</td><td>&quot;VEHICLE&quot;</td><td>&quot;Windshield Inadequate&quot;</td><td>&quot;Unknown&quot;</td><td>&quot;yv1ah99x81054962&quot;</td></tr></tbody></table></div>"
      ],
      "text/plain": [
       "shape: (9, 20)\n",
       "┌────────────┬─────────────┬─────────────────┬────────────────────┬───┬─────────────────────┬─────────────────────┬─────────────────────┬──────────────────┐\n",
       "│ statistic  ┆ Year        ┆ Case Vehicle ID ┆ Vehicle Body Type  ┆ … ┆ Contributing Factor ┆ Contributing Factor ┆ Event Type          ┆ Partial VIN      │\n",
       "│ ---        ┆ ---         ┆ ---             ┆ ---                ┆   ┆ 2                   ┆ 2 Descript…         ┆ ---                 ┆ ---              │\n",
       "│ str        ┆ f64         ┆ f64             ┆ str                ┆   ┆ ---                 ┆ ---                 ┆ str                 ┆ str              │\n",
       "│            ┆             ┆                 ┆                    ┆   ┆ str                 ┆ str                 ┆                     ┆                  │\n",
       "╞════════════╪═════════════╪═════════════════╪════════════════════╪═══╪═════════════════════╪═════════════════════╪═════════════════════╪══════════════════╡\n",
       "│ count      ┆ 3.551191e6  ┆ 3.551191e6      ┆ 3551191            ┆ … ┆ 3551191             ┆ 3551191             ┆ 3479866             ┆ 2830601          │\n",
       "│ null_count ┆ 0.0         ┆ 0.0             ┆ 0                  ┆ … ┆ 0                   ┆ 0                   ┆ 71325               ┆ 720590           │\n",
       "│ mean       ┆ 2020.960034 ┆ 1.8634e7        ┆ null               ┆ … ┆ null                ┆ null                ┆ null                ┆ null             │\n",
       "│ std        ┆ 1.450807    ┆ 1.2911e6        ┆ null               ┆ … ┆ null                ┆ null                ┆ null                ┆ null             │\n",
       "│ min        ┆ 2019.0      ┆ 1.5350252e7     ┆ 2 DOOR SEDAN       ┆ … ┆ ENVMT               ┆ Accelerator         ┆ Animal, Collision   ┆ 0                │\n",
       "│            ┆             ┆                 ┆                    ┆   ┆                     ┆ Defective           ┆ With                ┆                  │\n",
       "│ 25%        ┆ 2020.0      ┆ 1.7518829e7     ┆ null               ┆ … ┆ null                ┆ null                ┆ null                ┆ null             │\n",
       "│ 50%        ┆ 2021.0      ┆ 1.8657414e7     ┆ null               ┆ … ┆ null                ┆ null                ┆ null                ┆ null             │\n",
       "│ 75%        ┆ 2022.0      ┆ 1.974777e7      ┆ null               ┆ … ┆ null                ┆ null                ┆ null                ┆ null             │\n",
       "│ max        ┆ 2023.0      ┆ 2.1380596e7     ┆ WELL SERVICING RIG ┆ … ┆ VEHICLE             ┆ Windshield          ┆ Unknown             ┆ yv1ah99x81054962 │\n",
       "│            ┆             ┆                 ┆                    ┆   ┆                     ┆ Inadequate          ┆                     ┆                  │\n",
       "└────────────┴─────────────┴─────────────────┴────────────────────┴───┴─────────────────────┴─────────────────────┴─────────────────────┴──────────────────┘"
      ]
     },
     "execution_count": 32,
     "metadata": {},
     "output_type": "execute_result"
    }
   ],
   "source": [
    "df.describe()"
   ]
  },
  {
   "cell_type": "code",
   "execution_count": 33,
   "id": "0a973917-0e73-432a-8ff1-3dd4cd7548cc",
   "metadata": {},
   "outputs": [
    {
     "data": {
      "text/html": [
       "<div><style>\n",
       ".dataframe > thead > tr,\n",
       ".dataframe > tbody > tr {\n",
       "  text-align: right;\n",
       "  white-space: pre-wrap;\n",
       "}\n",
       "</style>\n",
       "<small>shape: (2_572_634, 19)</small><table border=\"1\" class=\"dataframe\"><thead><tr><th>Year</th><th>Case Vehicle ID</th><th>Vehicle Body Type</th><th>Registration Class</th><th>Action Prior to Accident</th><th>Type / Axles of Truck or Bus</th><th>Direction of Travel</th><th>Fuel Type</th><th>Vehicle Year</th><th>State of Registration</th><th>Number of Occupants</th><th>Engine Cylinders</th><th>Vehicle Make</th><th>Contributing Factor 1</th><th>Contributing Factor 1 Description</th><th>Contributing Factor 2</th><th>Contributing Factor 2 Description</th><th>Event Type</th><th>Partial VIN</th></tr><tr><td>i64</td><td>i64</td><td>str</td><td>str</td><td>str</td><td>str</td><td>str</td><td>str</td><td>i64</td><td>str</td><td>i64</td><td>i64</td><td>str</td><td>str</td><td>str</td><td>str</td><td>str</td><td>str</td><td>str</td></tr></thead><tbody><tr><td>2021</td><td>18126564</td><td>&quot;SUBURBAN&quot;</td><td>&quot;PASSENGER OR SUBURBAN&quot;</td><td>&quot;Parked&quot;</td><td>&quot;Not Entered&quot;</td><td>&quot;West&quot;</td><td>&quot;Gas&quot;</td><td>2020</td><td>&quot;NY&quot;</td><td>0</td><td>4</td><td>&quot;MAZDA&quot;</td><td>&quot;HUMAN&quot;</td><td>&quot;Not Entered&quot;</td><td>&quot;HUMAN&quot;</td><td>&quot;Not Entered&quot;</td><td>&quot;Other Motor Vehicle, Collision…</td><td>&quot;JM3KFBCM4L0771428&quot;</td></tr><tr><td>2021</td><td>18126574</td><td>&quot;SUBURBAN&quot;</td><td>&quot;PASSENGER OR SUBURBAN&quot;</td><td>&quot;Other&quot;</td><td>&quot;Not Entered&quot;</td><td>&quot;Northwest&quot;</td><td>&quot;Gas&quot;</td><td>2020</td><td>&quot;NY&quot;</td><td>1</td><td>4</td><td>&quot;HYUND&quot;</td><td>&quot;HUMAN&quot;</td><td>&quot;Not Entered&quot;</td><td>&quot;HUMAN&quot;</td><td>&quot;Not Entered&quot;</td><td>&quot;Not Entered&quot;</td><td>&quot;KM8J3CA40LU281000&quot;</td></tr><tr><td>2021</td><td>18126576</td><td>&quot;SUBURBAN&quot;</td><td>&quot;PASSENGER OR SUBURBAN&quot;</td><td>&quot;Parked&quot;</td><td>&quot;Not Entered&quot;</td><td>&quot;South&quot;</td><td>&quot;Gas&quot;</td><td>2009</td><td>&quot;NY&quot;</td><td>3</td><td>6</td><td>&quot;HONDA&quot;</td><td>&quot;HUMAN&quot;</td><td>&quot;Not Entered&quot;</td><td>&quot;HUMAN&quot;</td><td>&quot;Not Entered&quot;</td><td>&quot;Not Entered&quot;</td><td>&quot;5FNRL386X9B027780&quot;</td></tr><tr><td>2021</td><td>18126580</td><td>&quot;4 DOOR SEDAN&quot;</td><td>&quot;PASSENGER OR SUBURBAN&quot;</td><td>&quot;Going Straight Ahead&quot;</td><td>&quot;Not Entered&quot;</td><td>&quot;South&quot;</td><td>&quot;Gas&quot;</td><td>2020</td><td>&quot;NY&quot;</td><td>1</td><td>4</td><td>&quot;NISSA&quot;</td><td>&quot;HUMAN&quot;</td><td>&quot;Not Entered&quot;</td><td>&quot;HUMAN&quot;</td><td>&quot;Not Entered&quot;</td><td>&quot;Not Entered&quot;</td><td>&quot;1N4BL4CV5LC134543&quot;</td></tr><tr><td>2021</td><td>18126578</td><td>&quot;4 DOOR SEDAN&quot;</td><td>&quot;PASSENGER OR SUBURBAN&quot;</td><td>&quot;Going Straight Ahead&quot;</td><td>&quot;Not Entered&quot;</td><td>&quot;South&quot;</td><td>&quot;Gas&quot;</td><td>2011</td><td>&quot;NY&quot;</td><td>1</td><td>4</td><td>&quot;CHEVR&quot;</td><td>&quot;HUMAN&quot;</td><td>&quot;Not Entered&quot;</td><td>&quot;HUMAN&quot;</td><td>&quot;Not Entered&quot;</td><td>&quot;Not Entered&quot;</td><td>&quot;1G1RC6E49BU103290&quot;</td></tr><tr><td>&hellip;</td><td>&hellip;</td><td>&hellip;</td><td>&hellip;</td><td>&hellip;</td><td>&hellip;</td><td>&hellip;</td><td>&hellip;</td><td>&hellip;</td><td>&hellip;</td><td>&hellip;</td><td>&hellip;</td><td>&hellip;</td><td>&hellip;</td><td>&hellip;</td><td>&hellip;</td><td>&hellip;</td><td>&hellip;</td><td>&hellip;</td></tr><tr><td>2023</td><td>21363354</td><td>&quot;SUBURBAN&quot;</td><td>&quot;PASSENGER OR SUBURBAN&quot;</td><td>&quot;Going Straight Ahead&quot;</td><td>&quot;Not Entered&quot;</td><td>&quot;West&quot;</td><td>&quot;Gas&quot;</td><td>2019</td><td>&quot;NY&quot;</td><td>2</td><td>6</td><td>&quot;HONDA&quot;</td><td>&quot;HUMAN&quot;</td><td>&quot;Not Applicable&quot;</td><td>&quot;ENVMT&quot;</td><td>&quot;Animal&#x27;s Action&quot;</td><td>&quot;Not Applicable&quot;</td><td>&quot;5FNRL6H57KB133134&quot;</td></tr><tr><td>2023</td><td>21366619</td><td>&quot;4 DOOR SEDAN&quot;</td><td>&quot;OMNIBUS - TAXI&quot;</td><td>&quot;Unknown&quot;</td><td>&quot;Not Entered&quot;</td><td>&quot;Unknown&quot;</td><td>&quot;Gas&quot;</td><td>2022</td><td>&quot;NY&quot;</td><td>2</td><td>4</td><td>&quot;TOYOT&quot;</td><td>&quot;HUMAN&quot;</td><td>&quot;Not Entered&quot;</td><td>&quot;HUMAN&quot;</td><td>&quot;Not Entered&quot;</td><td>&quot;Not Entered&quot;</td><td>&quot;4T1T11AK2NU700503&quot;</td></tr><tr><td>2023</td><td>21368709</td><td>&quot;SUBURBAN&quot;</td><td>&quot;PASSENGER OR SUBURBAN&quot;</td><td>&quot;Unknown&quot;</td><td>&quot;Not Entered&quot;</td><td>&quot;Unknown&quot;</td><td>&quot;Gas&quot;</td><td>2021</td><td>&quot;NY&quot;</td><td>1</td><td>4</td><td>&quot;ME/BE&quot;</td><td>&quot;HUMAN&quot;</td><td>&quot;Not Entered&quot;</td><td>&quot;HUMAN&quot;</td><td>&quot;Not Entered&quot;</td><td>&quot;Not Entered&quot;</td><td>&quot;4JGFB4KB3MA568328&quot;</td></tr><tr><td>2023</td><td>21371790</td><td>&quot;SUBURBAN&quot;</td><td>&quot;PASSENGER OR SUBURBAN&quot;</td><td>&quot;Unknown&quot;</td><td>&quot;Not Entered&quot;</td><td>&quot;Unknown&quot;</td><td>&quot;Gas&quot;</td><td>2019</td><td>&quot;NY&quot;</td><td>1</td><td>4</td><td>&quot;HONDA&quot;</td><td>&quot;HUMAN&quot;</td><td>&quot;Not Entered&quot;</td><td>&quot;HUMAN&quot;</td><td>&quot;Not Entered&quot;</td><td>&quot;Not Entered&quot;</td><td>&quot;JHLRW2H51KX006677&quot;</td></tr><tr><td>2023</td><td>21371789</td><td>&quot;SUBURBAN&quot;</td><td>&quot;PASSENGER OR SUBURBAN&quot;</td><td>&quot;Unknown&quot;</td><td>&quot;Not Entered&quot;</td><td>&quot;Unknown&quot;</td><td>&quot;Gas&quot;</td><td>2018</td><td>&quot;NY&quot;</td><td>1</td><td>4</td><td>&quot;BMW&quot;</td><td>&quot;HUMAN&quot;</td><td>&quot;Not Entered&quot;</td><td>&quot;HUMAN&quot;</td><td>&quot;Not Entered&quot;</td><td>&quot;Not Entered&quot;</td><td>&quot;5UXTR9C55JLC78277&quot;</td></tr></tbody></table></div>"
      ],
      "text/plain": [
       "shape: (2_572_634, 19)\n",
       "┌──────┬─────────────────┬───────────────────┬───────────────────────┬───┬──────────────┬───────────────────────┬──────────────────────┬───────────────────┐\n",
       "│ Year ┆ Case Vehicle ID ┆ Vehicle Body Type ┆ Registration Class    ┆ … ┆ Contributing ┆ Contributing Factor 2 ┆ Event Type           ┆ Partial VIN       │\n",
       "│ ---  ┆ ---             ┆ ---               ┆ ---                   ┆   ┆ Factor 2     ┆ Descript…             ┆ ---                  ┆ ---               │\n",
       "│ i64  ┆ i64             ┆ str               ┆ str                   ┆   ┆ ---          ┆ ---                   ┆ str                  ┆ str               │\n",
       "│      ┆                 ┆                   ┆                       ┆   ┆ str          ┆ str                   ┆                      ┆                   │\n",
       "╞══════╪═════════════════╪═══════════════════╪═══════════════════════╪═══╪══════════════╪═══════════════════════╪══════════════════════╪═══════════════════╡\n",
       "│ 2021 ┆ 18126564        ┆ SUBURBAN          ┆ PASSENGER OR SUBURBAN ┆ … ┆ HUMAN        ┆ Not Entered           ┆ Other Motor Vehicle, ┆ JM3KFBCM4L0771428 │\n",
       "│      ┆                 ┆                   ┆                       ┆   ┆              ┆                       ┆ Collision…           ┆                   │\n",
       "│ 2021 ┆ 18126574        ┆ SUBURBAN          ┆ PASSENGER OR SUBURBAN ┆ … ┆ HUMAN        ┆ Not Entered           ┆ Not Entered          ┆ KM8J3CA40LU281000 │\n",
       "│ 2021 ┆ 18126576        ┆ SUBURBAN          ┆ PASSENGER OR SUBURBAN ┆ … ┆ HUMAN        ┆ Not Entered           ┆ Not Entered          ┆ 5FNRL386X9B027780 │\n",
       "│ 2021 ┆ 18126580        ┆ 4 DOOR SEDAN      ┆ PASSENGER OR SUBURBAN ┆ … ┆ HUMAN        ┆ Not Entered           ┆ Not Entered          ┆ 1N4BL4CV5LC134543 │\n",
       "│ 2021 ┆ 18126578        ┆ 4 DOOR SEDAN      ┆ PASSENGER OR SUBURBAN ┆ … ┆ HUMAN        ┆ Not Entered           ┆ Not Entered          ┆ 1G1RC6E49BU103290 │\n",
       "│ …    ┆ …               ┆ …                 ┆ …                     ┆ … ┆ …            ┆ …                     ┆ …                    ┆ …                 │\n",
       "│ 2023 ┆ 21363354        ┆ SUBURBAN          ┆ PASSENGER OR SUBURBAN ┆ … ┆ ENVMT        ┆ Animal's Action       ┆ Not Applicable       ┆ 5FNRL6H57KB133134 │\n",
       "│ 2023 ┆ 21366619        ┆ 4 DOOR SEDAN      ┆ OMNIBUS - TAXI        ┆ … ┆ HUMAN        ┆ Not Entered           ┆ Not Entered          ┆ 4T1T11AK2NU700503 │\n",
       "│ 2023 ┆ 21368709        ┆ SUBURBAN          ┆ PASSENGER OR SUBURBAN ┆ … ┆ HUMAN        ┆ Not Entered           ┆ Not Entered          ┆ 4JGFB4KB3MA568328 │\n",
       "│ 2023 ┆ 21371790        ┆ SUBURBAN          ┆ PASSENGER OR SUBURBAN ┆ … ┆ HUMAN        ┆ Not Entered           ┆ Not Entered          ┆ JHLRW2H51KX006677 │\n",
       "│ 2023 ┆ 21371789        ┆ SUBURBAN          ┆ PASSENGER OR SUBURBAN ┆ … ┆ HUMAN        ┆ Not Entered           ┆ Not Entered          ┆ 5UXTR9C55JLC78277 │\n",
       "└──────┴─────────────────┴───────────────────┴───────────────────────┴───┴──────────────┴───────────────────────┴──────────────────────┴───────────────────┘"
      ]
     },
     "execution_count": 33,
     "metadata": {},
     "output_type": "execute_result"
    }
   ],
   "source": [
    "df.drop_nulls()"
   ]
  },
  {
   "cell_type": "markdown",
   "id": "a5364471-47cb-4966-a5d1-5459edd1b0da",
   "metadata": {},
   "source": [
    "## verification de valeur manquante\n"
   ]
  },
  {
   "cell_type": "code",
   "execution_count": 13,
   "id": "fc1f98b4-ab6e-479c-a75f-ce5c1325b778",
   "metadata": {},
   "outputs": [
    {
     "name": "stdout",
     "output_type": "stream",
     "text": [
      "shape: (1, 19)\n",
      "┌──────┬─────────────────┬───────────────────┬────────────────────┬───┬───────────────────────┬─────────────────────────────────┬────────────┬─────────────┐\n",
      "│ Year ┆ Case Vehicle ID ┆ Vehicle Body Type ┆ Registration Class ┆ … ┆ Contributing Factor 2 ┆ Contributing Factor 2 Descript… ┆ Event Type ┆ Partial VIN │\n",
      "│ ---  ┆ ---             ┆ ---               ┆ ---                ┆   ┆ ---                   ┆ ---                             ┆ ---        ┆ ---         │\n",
      "│ u32  ┆ u32             ┆ u32               ┆ u32                ┆   ┆ u32                   ┆ u32                             ┆ u32        ┆ u32         │\n",
      "╞══════╪═════════════════╪═══════════════════╪════════════════════╪═══╪═══════════════════════╪═════════════════════════════════╪════════════╪═════════════╡\n",
      "│ 0    ┆ 0               ┆ 0                 ┆ 0                  ┆ … ┆ 0                     ┆ 0                               ┆ 71325      ┆ 720590      │\n",
      "└──────┴─────────────────┴───────────────────┴────────────────────┴───┴───────────────────────┴─────────────────────────────────┴────────────┴─────────────┘\n"
     ]
    }
   ],
   "source": [
    "missing_values = df.select([pl.col(c).is_null().sum().alias(c) for c in df.columns])\n",
    "print(missing_values)"
   ]
  },
  {
   "cell_type": "markdown",
   "id": "4d499c8e-ba18-4759-a718-13335dd438f8",
   "metadata": {},
   "source": [
    "### les valeur dupliquées"
   ]
  },
  {
   "cell_type": "code",
   "execution_count": 16,
   "id": "e7de969e-f74c-4801-939a-acb582942ea9",
   "metadata": {},
   "outputs": [
    {
     "data": {
      "text/html": [
       "<div><style>\n",
       ".dataframe > thead > tr,\n",
       ".dataframe > tbody > tr {\n",
       "  text-align: right;\n",
       "  white-space: pre-wrap;\n",
       "}\n",
       "</style>\n",
       "<small>shape: (3_551_191, 19)</small><table border=\"1\" class=\"dataframe\"><thead><tr><th>Year</th><th>Case Vehicle ID</th><th>Vehicle Body Type</th><th>Registration Class</th><th>Action Prior to Accident</th><th>Type / Axles of Truck or Bus</th><th>Direction of Travel</th><th>Fuel Type</th><th>Vehicle Year</th><th>State of Registration</th><th>Number of Occupants</th><th>Engine Cylinders</th><th>Vehicle Make</th><th>Contributing Factor 1</th><th>Contributing Factor 1 Description</th><th>Contributing Factor 2</th><th>Contributing Factor 2 Description</th><th>Event Type</th><th>Partial VIN</th></tr><tr><td>i64</td><td>i64</td><td>str</td><td>str</td><td>str</td><td>str</td><td>str</td><td>str</td><td>i64</td><td>str</td><td>i64</td><td>i64</td><td>str</td><td>str</td><td>str</td><td>str</td><td>str</td><td>str</td><td>str</td></tr></thead><tbody><tr><td>2019</td><td>16361279</td><td>&quot;SUBURBAN&quot;</td><td>&quot;OMNIBUS - TAXI&quot;</td><td>&quot;Making Left Turn&quot;</td><td>&quot;Not Entered&quot;</td><td>&quot;South&quot;</td><td>&quot;Gas&quot;</td><td>2018</td><td>&quot;NY&quot;</td><td>1</td><td>6</td><td>&quot;TOYOT&quot;</td><td>&quot;HUMAN&quot;</td><td>&quot;Unknown&quot;</td><td>&quot;HUMAN&quot;</td><td>&quot;Not Applicable&quot;</td><td>&quot;Not Entered&quot;</td><td>&quot;5TDJZRFH7JS526233&quot;</td></tr><tr><td>2020</td><td>17555250</td><td>&quot;4 DOOR SEDAN&quot;</td><td>&quot;PASSENGER OR SUBURBAN&quot;</td><td>&quot;Going Straight Ahead&quot;</td><td>&quot;Not Entered&quot;</td><td>&quot;North&quot;</td><td>&quot;Gas&quot;</td><td>2012</td><td>&quot;NY&quot;</td><td>2</td><td>4</td><td>&quot;NISSA&quot;</td><td>&quot;HUMAN&quot;</td><td>&quot;Not Applicable&quot;</td><td>&quot;HUMAN&quot;</td><td>&quot;Not Applicable&quot;</td><td>&quot;Not Applicable&quot;</td><td>&quot;3N1BC1CP6CK273328&quot;</td></tr><tr><td>2022</td><td>19934353</td><td>&quot;PICKUP TRUCK&quot;</td><td>&quot;PASSENGER OR SUBURBAN&quot;</td><td>&quot;Starting in Traffic&quot;</td><td>&quot;Not Entered&quot;</td><td>&quot;West&quot;</td><td>&quot;Gas&quot;</td><td>2017</td><td>&quot;NY&quot;</td><td>1</td><td>6</td><td>&quot;RAM&quot;</td><td>&quot;HUMAN&quot;</td><td>&quot;Not Applicable&quot;</td><td>&quot;HUMAN&quot;</td><td>&quot;Following Too Closely&quot;</td><td>&quot;Not Applicable&quot;</td><td>&quot;1C6RR7FG3HS793442&quot;</td></tr><tr><td>2023</td><td>20036110</td><td>&quot;SUBURBAN&quot;</td><td>&quot;PASSENGER OR SUBURBAN&quot;</td><td>&quot;Parked&quot;</td><td>&quot;Not Entered&quot;</td><td>&quot;South&quot;</td><td>&quot;Gas&quot;</td><td>2020</td><td>&quot;NY&quot;</td><td>0</td><td>6</td><td>&quot;HONDA&quot;</td><td>&quot;HUMAN&quot;</td><td>&quot;Not Applicable&quot;</td><td>&quot;HUMAN&quot;</td><td>&quot;Not Applicable&quot;</td><td>&quot;Not Entered&quot;</td><td>&quot;5FNYF6H79LB043313&quot;</td></tr><tr><td>2019</td><td>17238183</td><td>&quot;PICKUP TRUCK&quot;</td><td>&quot;COMMERCIAL&quot;</td><td>&quot;Going Straight Ahead&quot;</td><td>&quot;Not Entered&quot;</td><td>&quot;East&quot;</td><td>&quot;Diesel&quot;</td><td>2015</td><td>&quot;NY&quot;</td><td>1</td><td>8</td><td>&quot;GMC&quot;</td><td>&quot;ENVMT&quot;</td><td>&quot;Animal&#x27;s Action&quot;</td><td>&quot;HUMAN&quot;</td><td>&quot;Not Applicable&quot;</td><td>&quot;Not Applicable&quot;</td><td>&quot;1GT424E86FF605714&quot;</td></tr><tr><td>&hellip;</td><td>&hellip;</td><td>&hellip;</td><td>&hellip;</td><td>&hellip;</td><td>&hellip;</td><td>&hellip;</td><td>&hellip;</td><td>&hellip;</td><td>&hellip;</td><td>&hellip;</td><td>&hellip;</td><td>&hellip;</td><td>&hellip;</td><td>&hellip;</td><td>&hellip;</td><td>&hellip;</td><td>&hellip;</td><td>&hellip;</td></tr><tr><td>2020</td><td>17922685</td><td>&quot;BICYCLIST&quot;</td><td>&quot;Not Entered&quot;</td><td>&quot;Going Straight Ahead&quot;</td><td>&quot;Not Entered&quot;</td><td>&quot;Northwest&quot;</td><td>&quot;Not Entered&quot;</td><td>null</td><td>null</td><td>1</td><td>null</td><td>null</td><td>&quot;HUMAN&quot;</td><td>&quot;Not Applicable&quot;</td><td>&quot;HUMAN&quot;</td><td>&quot;Unknown&quot;</td><td>&quot;Not Entered&quot;</td><td>null</td></tr><tr><td>2020</td><td>17595602</td><td>&quot;UNKNOWN VEHICLE&quot;</td><td>&quot;Not Entered&quot;</td><td>&quot;Going Straight Ahead&quot;</td><td>&quot;Not Entered&quot;</td><td>&quot;South&quot;</td><td>&quot;Not Entered&quot;</td><td>null</td><td>null</td><td>null</td><td>null</td><td>null</td><td>&quot;HUMAN&quot;</td><td>&quot;Not Applicable&quot;</td><td>&quot;HUMAN&quot;</td><td>&quot;Passing or Lane Usage Improper&quot;</td><td>&quot;Not Applicable&quot;</td><td>null</td></tr><tr><td>2022</td><td>19516227</td><td>&quot;4 DOOR SEDAN&quot;</td><td>&quot;PASSENGER OR SUBURBAN&quot;</td><td>&quot;Overtaking/Passing&quot;</td><td>&quot;Not Entered&quot;</td><td>&quot;West&quot;</td><td>&quot;Gas&quot;</td><td>2017</td><td>&quot;NY&quot;</td><td>1</td><td>4</td><td>&quot;FORD&quot;</td><td>&quot;HUMAN&quot;</td><td>&quot;Not Applicable&quot;</td><td>&quot;HUMAN&quot;</td><td>&quot;Passing or Lane Usage Improper&quot;</td><td>&quot;Not Applicable&quot;</td><td>&quot;3FA6P0T95HR268432&quot;</td></tr><tr><td>2019</td><td>16664839</td><td>&quot;4 DOOR SEDAN&quot;</td><td>&quot;PASSENGER OR SUBURBAN&quot;</td><td>&quot;Entering Parked Position&quot;</td><td>&quot;Not Entered&quot;</td><td>&quot;North&quot;</td><td>&quot;Gas&quot;</td><td>2006</td><td>&quot;NY&quot;</td><td>2</td><td>4</td><td>&quot;TOYOT&quot;</td><td>&quot;HUMAN&quot;</td><td>&quot;Driver Inattention/Distraction…</td><td>&quot;HUMAN&quot;</td><td>&quot;Not Applicable&quot;</td><td>&quot;Building/Wall, Collision With …</td><td>&quot;4T1BE30K36U692037&quot;</td></tr><tr><td>2022</td><td>19374232</td><td>&quot;PICKUP TRUCK&quot;</td><td>&quot;COMMERCIAL&quot;</td><td>&quot;Going Straight Ahead&quot;</td><td>&quot;Not Entered&quot;</td><td>&quot;West&quot;</td><td>&quot;Gas&quot;</td><td>2018</td><td>&quot;NY&quot;</td><td>1</td><td>8</td><td>&quot;GMC&quot;</td><td>&quot;HUMAN&quot;</td><td>&quot;Not Applicable&quot;</td><td>&quot;HUMAN&quot;</td><td>&quot;Not Applicable&quot;</td><td>&quot;Not Applicable&quot;</td><td>&quot;3GTU2MEC4JG432979&quot;</td></tr></tbody></table></div>"
      ],
      "text/plain": [
       "shape: (3_551_191, 19)\n",
       "┌──────┬─────────────────┬───────────────────┬─────────────────────────┬───┬──────────────┬─────────────────────────┬──────────────────┬───────────────────┐\n",
       "│ Year ┆ Case Vehicle ID ┆ Vehicle Body Type ┆ Registration Class      ┆ … ┆ Contributing ┆ Contributing Factor 2   ┆ Event Type       ┆ Partial VIN       │\n",
       "│ ---  ┆ ---             ┆ ---               ┆ ---                     ┆   ┆ Factor 2     ┆ Descript…               ┆ ---              ┆ ---               │\n",
       "│ i64  ┆ i64             ┆ str               ┆ str                     ┆   ┆ ---          ┆ ---                     ┆ str              ┆ str               │\n",
       "│      ┆                 ┆                   ┆                         ┆   ┆ str          ┆ str                     ┆                  ┆                   │\n",
       "╞══════╪═════════════════╪═══════════════════╪═════════════════════════╪═══╪══════════════╪═════════════════════════╪══════════════════╪═══════════════════╡\n",
       "│ 2019 ┆ 16361279        ┆ SUBURBAN          ┆ OMNIBUS - TAXI          ┆ … ┆ HUMAN        ┆ Not Applicable          ┆ Not Entered      ┆ 5TDJZRFH7JS526233 │\n",
       "│ 2020 ┆ 17555250        ┆ 4 DOOR SEDAN      ┆ PASSENGER OR SUBURBAN   ┆ … ┆ HUMAN        ┆ Not Applicable          ┆ Not Applicable   ┆ 3N1BC1CP6CK273328 │\n",
       "│ 2022 ┆ 19934353        ┆ PICKUP TRUCK      ┆ PASSENGER OR SUBURBAN   ┆ … ┆ HUMAN        ┆ Following Too Closely   ┆ Not Applicable   ┆ 1C6RR7FG3HS793442 │\n",
       "│ 2023 ┆ 20036110        ┆ SUBURBAN          ┆ PASSENGER OR SUBURBAN   ┆ … ┆ HUMAN        ┆ Not Applicable          ┆ Not Entered      ┆ 5FNYF6H79LB043313 │\n",
       "│ 2019 ┆ 17238183        ┆ PICKUP TRUCK      ┆ COMMERCIAL              ┆ … ┆ HUMAN        ┆ Not Applicable          ┆ Not Applicable   ┆ 1GT424E86FF605714 │\n",
       "│ …    ┆ …               ┆ …                 ┆ …                       ┆ … ┆ …            ┆ …                       ┆ …                ┆ …                 │\n",
       "│ 2020 ┆ 17922685        ┆ BICYCLIST         ┆ Not Entered             ┆ … ┆ HUMAN        ┆ Unknown                 ┆ Not Entered      ┆ null              │\n",
       "│ 2020 ┆ 17595602        ┆ UNKNOWN VEHICLE   ┆ Not Entered             ┆ … ┆ HUMAN        ┆ Passing or Lane Usage   ┆ Not Applicable   ┆ null              │\n",
       "│      ┆                 ┆                   ┆                         ┆   ┆              ┆ Improper                ┆                  ┆                   │\n",
       "│ 2022 ┆ 19516227        ┆ 4 DOOR SEDAN      ┆ PASSENGER OR SUBURBAN   ┆ … ┆ HUMAN        ┆ Passing or Lane Usage   ┆ Not Applicable   ┆ 3FA6P0T95HR268432 │\n",
       "│      ┆                 ┆                   ┆                         ┆   ┆              ┆ Improper                ┆                  ┆                   │\n",
       "│ 2019 ┆ 16664839        ┆ 4 DOOR SEDAN      ┆ PASSENGER OR SUBURBAN   ┆ … ┆ HUMAN        ┆ Not Applicable          ┆ Building/Wall,   ┆ 4T1BE30K36U692037 │\n",
       "│      ┆                 ┆                   ┆                         ┆   ┆              ┆                         ┆ Collision With … ┆                   │\n",
       "│ 2022 ┆ 19374232        ┆ PICKUP TRUCK      ┆ COMMERCIAL              ┆ … ┆ HUMAN        ┆ Not Applicable          ┆ Not Applicable   ┆ 3GTU2MEC4JG432979 │\n",
       "└──────┴─────────────────┴───────────────────┴─────────────────────────┴───┴──────────────┴─────────────────────────┴──────────────────┴───────────────────┘"
      ]
     },
     "execution_count": 16,
     "metadata": {},
     "output_type": "execute_result"
    }
   ],
   "source": [
    "df.unique()"
   ]
  },
  {
   "cell_type": "code",
   "execution_count": 49,
   "id": "ec1ae338-bd55-418c-a97c-d320afeaedd6",
   "metadata": {},
   "outputs": [],
   "source": [
    "### suppression de colonne qui ne contient rien\n",
    "df = df.drop(\"Type / Axles of Truck or Bus\")"
   ]
  },
  {
   "cell_type": "markdown",
   "id": "7e262a83-794b-4e78-a370-da133c588850",
   "metadata": {},
   "source": [
    "## selection de type de colonnes"
   ]
  },
  {
   "cell_type": "code",
   "execution_count": 17,
   "id": "4224fb66-81b0-45e8-9483-f22054c9c65a",
   "metadata": {},
   "outputs": [],
   "source": [
    "\n",
    "numeric_cols = df.select([col for col in df.columns if df[col].dtype in [pl.Int32, pl.Int64, pl.Float32, pl.Float64]])\n"
   ]
  },
  {
   "cell_type": "markdown",
   "id": "0921eb06-2ade-46ea-be69-3346585e59e5",
   "metadata": {},
   "source": [
    "print(numeric_cols)"
   ]
  },
  {
   "cell_type": "code",
   "execution_count": 25,
   "id": "925e7888-5309-44a1-8f0f-bb0544b61187",
   "metadata": {},
   "outputs": [],
   "source": [
    "categorical_cols = df.select([col for col in df.columns if df[col].dtype == pl.Utf8])"
   ]
  },
  {
   "cell_type": "code",
   "execution_count": 24,
   "id": "38278623-50f1-4371-9d0d-dacef08c45d7",
   "metadata": {},
   "outputs": [
    {
     "name": "stdout",
     "output_type": "stream",
     "text": [
      "shape: (3_551_191, 14)\n",
      "┌───────────────────┬──────────────┬─────────────────┬─────────────────┬───┬──────────────┬──────────────────────────┬─────────────┬───────────────────┐\n",
      "│ Vehicle Body Type ┆ Registration ┆ Action Prior to ┆ Type / Axles of ┆ … ┆ Contributing ┆ Contributing Factor 2    ┆ Event Type  ┆ Partial VIN       │\n",
      "│ ---               ┆ Class        ┆ Accident        ┆ Truck or Bus    ┆   ┆ Factor 2     ┆ Descript…                ┆ ---         ┆ ---               │\n",
      "│ str               ┆ ---          ┆ ---             ┆ ---             ┆   ┆ ---          ┆ ---                      ┆ str         ┆ str               │\n",
      "│                   ┆ str          ┆ str             ┆ str             ┆   ┆ str          ┆ str                      ┆             ┆                   │\n",
      "╞═══════════════════╪══════════════╪═════════════════╪═════════════════╪═══╪══════════════╪══════════════════════════╪═════════════╪═══════════════════╡\n",
      "│ UNKNOWN VEHICLE   ┆ Not Entered  ┆ Going Straight  ┆ Not Entered     ┆ … ┆ HUMAN        ┆ Unknown                  ┆ Not Entered ┆ null              │\n",
      "│                   ┆              ┆ Ahead           ┆                 ┆   ┆              ┆                          ┆             ┆                   │\n",
      "│ SUBURBAN          ┆ PASSENGER OR ┆ Parked          ┆ Not Entered     ┆ … ┆ HUMAN        ┆ Not Entered              ┆ Other Motor ┆ JM3KFBCM4L0771428 │\n",
      "│                   ┆ SUBURBAN     ┆                 ┆                 ┆   ┆              ┆                          ┆ Vehicle,    ┆                   │\n",
      "│                   ┆              ┆                 ┆                 ┆   ┆              ┆                          ┆ Collision…  ┆                   │\n",
      "│ SUBURBAN          ┆ PASSENGER OR ┆ Other           ┆ Not Entered     ┆ … ┆ HUMAN        ┆ Not Entered              ┆ Not Entered ┆ KM8J3CA40LU281000 │\n",
      "│                   ┆ SUBURBAN     ┆                 ┆                 ┆   ┆              ┆                          ┆             ┆                   │\n",
      "│ SEDAN             ┆ Not Entered  ┆ Going Straight  ┆ Not Entered     ┆ … ┆ HUMAN        ┆ Driver                   ┆ Not Entered ┆ null              │\n",
      "│                   ┆              ┆ Ahead           ┆                 ┆   ┆              ┆ Inattention/Distraction… ┆             ┆                   │\n",
      "│ SUBURBAN          ┆ Not Entered  ┆ Going Straight  ┆ Not Entered     ┆ … ┆ HUMAN        ┆ Driver Inexperience*     ┆ Not Entered ┆ null              │\n",
      "│                   ┆              ┆ Ahead           ┆                 ┆   ┆              ┆                          ┆             ┆                   │\n",
      "│ …                 ┆ …            ┆ …               ┆ …               ┆ … ┆ …            ┆ …                        ┆ …           ┆ …                 │\n",
      "│ SUBURBAN          ┆ PASSENGER OR ┆ Unknown         ┆ Not Entered     ┆ … ┆ HUMAN        ┆ Not Entered              ┆ Not Entered ┆ JHLRW2H51KX006677 │\n",
      "│                   ┆ SUBURBAN     ┆                 ┆                 ┆   ┆              ┆                          ┆             ┆                   │\n",
      "│ SUBURBAN          ┆ PASSENGER OR ┆ Unknown         ┆ Not Entered     ┆ … ┆ HUMAN        ┆ Not Entered              ┆ Not Entered ┆ 5UXTR9C55JLC78277 │\n",
      "│                   ┆ SUBURBAN     ┆                 ┆                 ┆   ┆              ┆                          ┆             ┆                   │\n",
      "│ UNKNOWN VEHICLE   ┆ Not Entered  ┆ Unknown         ┆ Not Entered     ┆ … ┆ HUMAN        ┆ Not Entered              ┆ Not Entered ┆ null              │\n",
      "│ TRACTOR           ┆ Not Entered  ┆ Changing Lanes  ┆ Not Entered     ┆ … ┆ HUMAN        ┆ Not Entered              ┆ Other Motor ┆ null              │\n",
      "│                   ┆              ┆                 ┆                 ┆   ┆              ┆                          ┆ Vehicle,    ┆                   │\n",
      "│                   ┆              ┆                 ┆                 ┆   ┆              ┆                          ┆ Collision…  ┆                   │\n",
      "│ 4 DOOR SEDAN      ┆ Not Entered  ┆ Going Straight  ┆ Not Entered     ┆ … ┆ HUMAN        ┆ Not Entered              ┆ Not Entered ┆ null              │\n",
      "│                   ┆              ┆ Ahead           ┆                 ┆   ┆              ┆                          ┆             ┆                   │\n",
      "└───────────────────┴──────────────┴─────────────────┴─────────────────┴───┴──────────────┴──────────────────────────┴─────────────┴───────────────────┘\n"
     ]
    }
   ],
   "source": [
    "print(categorical_cols)"
   ]
  },
  {
   "cell_type": "code",
   "execution_count": null,
   "id": "082ff9c2-3b5a-4015-9c55-10ef8d495dc6",
   "metadata": {},
   "outputs": [],
   "source": []
  },
  {
   "cell_type": "markdown",
   "id": "6b7c80b4-2195-43d3-9865-5f12dd467a8f",
   "metadata": {},
   "source": [
    "## comptages de valeur uniques de type de vehicule"
   ]
  },
  {
   "cell_type": "code",
   "execution_count": 40,
   "id": "919a37ee-9623-4fc2-b41a-dfaa0455e1bf",
   "metadata": {},
   "outputs": [
    {
     "name": "stdout",
     "output_type": "stream",
     "text": [
      "Nombre de valeurs uniques dans 'Vehicle Make' : 3317\n"
     ]
    }
   ],
   "source": [
    "unique_vehicle_make_count = df[\"Vehicle Make\"].n_unique()\n",
    "print(f\"Nombre de valeurs uniques dans 'Vehicle Make' : {unique_vehicle_make_count}\")"
   ]
  },
  {
   "cell_type": "markdown",
   "id": "d66ddf74-d99e-4975-bc44-2ebe0827b6a8",
   "metadata": {},
   "source": [
    "# analyse temporelle "
   ]
  },
  {
   "cell_type": "code",
   "execution_count": null,
   "id": "2cfb47ad-2770-4b57-a8cb-cb224cd0c384",
   "metadata": {},
   "outputs": [],
   "source": []
  },
  {
   "cell_type": "code",
   "execution_count": 41,
   "id": "2e7e1452-5f36-4ab1-8474-777564c2d7a2",
   "metadata": {},
   "outputs": [
    {
     "name": "stdout",
     "output_type": "stream",
     "text": [
      "shape: (5, 2)\n",
      "┌──────┬────────────────┐\n",
      "│ Year ┆ accident_count │\n",
      "│ ---  ┆ ---            │\n",
      "│ i64  ┆ u32            │\n",
      "╞══════╪════════════════╡\n",
      "│ 2020 ┆ 598987         │\n",
      "│ 2022 ┆ 720559         │\n",
      "│ 2019 ┆ 835976         │\n",
      "│ 2021 ┆ 691442         │\n",
      "│ 2023 ┆ 704227         │\n",
      "└──────┴────────────────┘\n"
     ]
    },
    {
     "name": "stderr",
     "output_type": "stream",
     "text": [
      "C:\\Users\\HP\\AppData\\Local\\Temp\\ipykernel_22044\\3190593203.py:1: DeprecationWarning: `pl.count()` is deprecated. Please use `pl.len()` instead.\n",
      "  accidents_per_year = df.group_by(\"Year\").agg(pl.count().alias(\"accident_count\"))\n"
     ]
    }
   ],
   "source": [
    "accidents_per_year = df.group_by(\"Year\").agg(pl.count().alias(\"accident_count\"))\n",
    "\n",
    "print(accidents_per_year)"
   ]
  },
  {
   "cell_type": "markdown",
   "id": "a9583016-3440-488b-958a-5d0d42f807da",
   "metadata": {},
   "source": [
    "## analyse de distribution de donnée catégorielles"
   ]
  },
  {
   "cell_type": "code",
   "execution_count": 50,
   "id": "b696637f-d667-4469-8fb6-d9e6500d2b48",
   "metadata": {},
   "outputs": [
    {
     "name": "stderr",
     "output_type": "stream",
     "text": [
      "C:\\Users\\HP\\AppData\\Local\\Temp\\ipykernel_22044\\1758265899.py:2: DeprecationWarning: `pl.count()` is deprecated. Please use `pl.len()` instead.\n",
      "  distribution = df.group_by(column).agg(pl.count().alias(f\"{column}_count\"))\n"
     ]
    },
    {
     "name": "stdout",
     "output_type": "stream",
     "text": [
      "Distribution de la colonne 'shape: (3_551_191,)\n",
      "Series: 'Vehicle Body Type' [str]\n",
      "[\n",
      "\t\"UNKNOWN VEHICLE\"\n",
      "\t\"SUBURBAN\"\n",
      "\t\"SUBURBAN\"\n",
      "\t\"SEDAN\"\n",
      "\t\"SUBURBAN\"\n",
      "\t…\n",
      "\t\"SUBURBAN\"\n",
      "\t\"SUBURBAN\"\n",
      "\t\"UNKNOWN VEHICLE\"\n",
      "\t\"TRACTOR\"\n",
      "\t\"4 DOOR SEDAN\"\n",
      "]':\n",
      "shape: (64, 2)\n",
      "┌───────────────────────────┬─────────────────────┐\n",
      "│ Vehicle Body Type         ┆ shape: (3_551_191,) │\n",
      "│ ---                       ┆ Series: 'V…         │\n",
      "│ str                       ┆ ---                 │\n",
      "│                           ┆ u32                 │\n",
      "╞═══════════════════════════╪═════════════════════╡\n",
      "│ UTILITY                   ┆ 9351                │\n",
      "│ BUS (OMNIBUS)             ┆ 27794               │\n",
      "│ ALL TERRAIN VEHICLE       ┆ 483                 │\n",
      "│ SNOW PLOW                 ┆ 192                 │\n",
      "│ LOW SPEED VEHICLE - TRUCK ┆ 2                   │\n",
      "│ …                         ┆ …                   │\n",
      "│ LOCOMOTIVE                ┆ 31                  │\n",
      "│ TRUCK W/ SMALL WHEELS     ┆ 1104                │\n",
      "│ 2 DOOR SEDAN              ┆ 77916               │\n",
      "│ TRUCK CRANE               ┆ 798                 │\n",
      "│ LOW SPEED VEHICLE         ┆ 64                  │\n",
      "└───────────────────────────┴─────────────────────┘\n",
      "\n",
      "\n",
      "Distribution de la colonne 'shape: (3_551_191,)\n",
      "Series: 'Registration Class' [str]\n",
      "[\n",
      "\t\"Not Entered\"\n",
      "\t\"PASSENGER OR SUBURBAN\"\n",
      "\t\"PASSENGER OR SUBURBAN\"\n",
      "\t\"Not Entered\"\n",
      "\t\"Not Entered\"\n",
      "\t…\n",
      "\t\"PASSENGER OR SUBURBAN\"\n",
      "\t\"PASSENGER OR SUBURBAN\"\n",
      "\t\"Not Entered\"\n",
      "\t\"Not Entered\"\n",
      "\t\"Not Entered\"\n",
      "]':\n",
      "shape: (68, 2)\n",
      "┌────────────────────────────────┬─────────────────────┐\n",
      "│ Registration Class             ┆ shape: (3_551_191,) │\n",
      "│ ---                            ┆ Series: 'R…         │\n",
      "│ str                            ┆ ---                 │\n",
      "│                                ┆ u32                 │\n",
      "╞════════════════════════════════╪═════════════════════╡\n",
      "│ AGRICULTURAL TRUCK             ┆ 75597               │\n",
      "│ SUPREME COURT JUSTICE          ┆ 11                  │\n",
      "│ OMNIBUS - PUBLIC SERVICE       ┆ 4                   │\n",
      "│ CLASS A LIMITED USE MOTORCYCLE ┆ 119                 │\n",
      "│ REGIONAL COMMERCIAL            ┆ 64                  │\n",
      "│ …                              ┆ …                   │\n",
      "│ Not Entered                    ┆ 851089              │\n",
      "│ AMBULANCE                      ┆ 2739                │\n",
      "│ CORONER/MEDICAL EXAMINER       ┆ 7                   │\n",
      "│ BOB BIRTHPLACE OF BASEBALL     ┆ 70                  │\n",
      "│ HEARSE COACH                   ┆ 2                   │\n",
      "└────────────────────────────────┴─────────────────────┘\n",
      "\n",
      "\n",
      "Distribution de la colonne 'shape: (3_551_191,)\n",
      "Series: 'Action Prior to Accident' [str]\n",
      "[\n",
      "\t\"Going Straight Ahead\"\n",
      "\t\"Parked\"\n",
      "\t\"Other\"\n",
      "\t\"Going Straight Ahead\"\n",
      "\t\"Going Straight Ahead\"\n",
      "\t…\n",
      "\t\"Unknown\"\n",
      "\t\"Unknown\"\n",
      "\t\"Unknown\"\n",
      "\t\"Changing Lanes\"\n",
      "\t\"Going Straight Ahead\"\n",
      "]':\n",
      "shape: (21, 2)\n",
      "┌────────────────────────────┬─────────────────────┐\n",
      "│ Action Prior to Accident   ┆ shape: (3_551_191,) │\n",
      "│ ---                        ┆ Series: 'A…         │\n",
      "│ str                        ┆ ---                 │\n",
      "│                            ┆ u32                 │\n",
      "╞════════════════════════════╪═════════════════════╡\n",
      "│ Backing                    ┆ 117919              │\n",
      "│ Changing Lanes             ┆ 93645               │\n",
      "│ Merging                    ┆ 32015               │\n",
      "│ Overtaking/Passing         ┆ 24569               │\n",
      "│ Avoiding Object in Roadway ┆ 8016                │\n",
      "│ …                          ┆ …                   │\n",
      "│ Entering Parked Position   ┆ 18636               │\n",
      "│ Stopped in Traffic         ┆ 232958              │\n",
      "│ Making U Turn              ┆ 19651               │\n",
      "│ Police Pursuit             ┆ 1413                │\n",
      "│ Parked                     ┆ 329346              │\n",
      "└────────────────────────────┴─────────────────────┘\n",
      "\n",
      "\n",
      "Distribution de la colonne 'shape: (3_551_191,)\n",
      "Series: 'Type / Axles of Truck or Bus' [str]\n",
      "[\n",
      "\t\"Not Entered\"\n",
      "\t\"Not Entered\"\n",
      "\t\"Not Entered\"\n",
      "\t\"Not Entered\"\n",
      "\t\"Not Entered\"\n",
      "\t…\n",
      "\t\"Not Entered\"\n",
      "\t\"Not Entered\"\n",
      "\t\"Not Entered\"\n",
      "\t\"Not Entered\"\n",
      "\t\"Not Entered\"\n",
      "]':\n",
      "shape: (7, 2)\n",
      "┌─────────────────────────────────┬─────────────────────┐\n",
      "│ Type / Axles of Truck or Bus    ┆ shape: (3_551_191,) │\n",
      "│ ---                             ┆ Series: 'T…         │\n",
      "│ str                             ┆ ---                 │\n",
      "│                                 ┆ u32                 │\n",
      "╞═════════════════════════════════╪═════════════════════╡\n",
      "│ 3 axle box trailer and 3 axle … ┆ 1                   │\n",
      "│ Unknown                         ┆ 1                   │\n",
      "│ 4 axle single unit box truck    ┆ 1                   │\n",
      "│ 3 axle single unit box truck    ┆ 1                   │\n",
      "│ Not Entered                     ┆ 3551182             │\n",
      "│ 2 axle single unit box truck    ┆ 4                   │\n",
      "│ 2 axle box trailer and 3 axle … ┆ 1                   │\n",
      "└─────────────────────────────────┴─────────────────────┘\n",
      "\n",
      "\n",
      "Distribution de la colonne 'shape: (3_551_191,)\n",
      "Series: 'Direction of Travel' [str]\n",
      "[\n",
      "\t\"Unknown\"\n",
      "\t\"West\"\n",
      "\t\"Northwest\"\n",
      "\t\"Northwest\"\n",
      "\t\"South\"\n",
      "\t…\n",
      "\t\"Unknown\"\n",
      "\t\"Unknown\"\n",
      "\t\"Unknown\"\n",
      "\t\"North\"\n",
      "\t\"North\"\n",
      "]':\n",
      "shape: (10, 2)\n",
      "┌─────────────────────┬─────────────────────┐\n",
      "│ Direction of Travel ┆ shape: (3_551_191,) │\n",
      "│ ---                 ┆ Series: 'D…         │\n",
      "│ str                 ┆ ---                 │\n",
      "│                     ┆ u32                 │\n",
      "╞═════════════════════╪═════════════════════╡\n",
      "│ Not Applicable      ┆ 71989               │\n",
      "│ South               ┆ 726427              │\n",
      "│ West                ┆ 738104              │\n",
      "│ North               ┆ 739605              │\n",
      "│ Northwest           ┆ 68995               │\n",
      "│ Southwest           ┆ 68738               │\n",
      "│ Northeast           ┆ 73356               │\n",
      "│ East                ┆ 751307              │\n",
      "│ Southeast           ┆ 67925               │\n",
      "│ Unknown             ┆ 244745              │\n",
      "└─────────────────────┴─────────────────────┘\n",
      "\n",
      "\n",
      "Distribution de la colonne 'shape: (3_551_191,)\n",
      "Series: 'Fuel Type' [str]\n",
      "[\n",
      "\t\"Not Entered\"\n",
      "\t\"Gas\"\n",
      "\t\"Gas\"\n",
      "\t\"Not Entered\"\n",
      "\t\"Not Entered\"\n",
      "\t…\n",
      "\t\"Gas\"\n",
      "\t\"Gas\"\n",
      "\t\"Not Entered\"\n",
      "\t\"Not Entered\"\n",
      "\t\"Not Entered\"\n",
      "]':\n",
      "shape: (9, 2)\n",
      "┌────────────────────────┬─────────────────────┐\n",
      "│ Fuel Type              ┆ shape: (3_551_191,) │\n",
      "│ ---                    ┆ Series: 'F…         │\n",
      "│ str                    ┆ ---                 │\n",
      "│                        ┆ u32                 │\n",
      "╞════════════════════════╪═════════════════════╡\n",
      "│ Gas                    ┆ 2573314             │\n",
      "│ Other                  ┆ 238                 │\n",
      "│ Electric               ┆ 12305               │\n",
      "│ None                   ┆ 3151                │\n",
      "│ Diesel                 ┆ 106053              │\n",
      "│ Not Entered            ┆ 851058              │\n",
      "│ Propane                ┆ 185                 │\n",
      "│ Compressed Natural Gas ┆ 2346                │\n",
      "│ Flex                   ┆ 2541                │\n",
      "└────────────────────────┴─────────────────────┘\n",
      "\n",
      "\n",
      "Distribution de la colonne 'shape: (3_551_191,)\n",
      "Series: 'State of Registration' [str]\n",
      "[\n",
      "\tnull\n",
      "\t\"NY\"\n",
      "\t\"NY\"\n",
      "\t\"TX\"\n",
      "\t\"PA\"\n",
      "\t…\n",
      "\t\"NY\"\n",
      "\t\"NY\"\n",
      "\tnull\n",
      "\t\"NJ\"\n",
      "\t\"NJ\"\n",
      "]':\n",
      "shape: (82, 2)\n",
      "┌───────────────────────┬─────────────────────┐\n",
      "│ State of Registration ┆ shape: (3_551_191,) │\n",
      "│ ---                   ┆ Series: 'S…         │\n",
      "│ str                   ┆ ---                 │\n",
      "│                       ┆ u32                 │\n",
      "╞═══════════════════════╪═════════════════════╡\n",
      "│ AZ                    ┆ 5527                │\n",
      "│ NJ                    ┆ 97969               │\n",
      "│ NT                    ┆ 90                  │\n",
      "│ ZS                    ┆ 125                 │\n",
      "│ HI                    ┆ 71                  │\n",
      "│ …                     ┆ …                   │\n",
      "│ OH                    ┆ 7653                │\n",
      "│ MS                    ┆ 688                 │\n",
      "│ null                  ┆ 310389              │\n",
      "│ VI                    ┆ 17                  │\n",
      "│ MI                    ┆ 2949                │\n",
      "└───────────────────────┴─────────────────────┘\n",
      "\n",
      "\n",
      "Distribution de la colonne 'shape: (3_551_191,)\n",
      "Series: 'Vehicle Make' [str]\n",
      "[\n",
      "\tnull\n",
      "\t\"MAZDA\"\n",
      "\t\"HYUND\"\n",
      "\tnull\n",
      "\tnull\n",
      "\t…\n",
      "\t\"HONDA\"\n",
      "\t\"BMW\"\n",
      "\tnull\n",
      "\tnull\n",
      "\tnull\n",
      "]':\n",
      "shape: (3_317, 2)\n",
      "┌──────────────┬─────────────────────┐\n",
      "│ Vehicle Make ┆ shape: (3_551_191,) │\n",
      "│ ---          ┆ Series: 'V…         │\n",
      "│ str          ┆ ---                 │\n",
      "│              ┆ u32                 │\n",
      "╞══════════════╪═════════════════════╡\n",
      "│ SUZUK        ┆ 5132                │\n",
      "│ ASPEN        ┆ 2                   │\n",
      "│ AI/TO        ┆ 1                   │\n",
      "│ CLEM         ┆ 1                   │\n",
      "│ SOUW         ┆ 1                   │\n",
      "│ …            ┆ …                   │\n",
      "│ HMST         ┆ 1                   │\n",
      "│ IMPUL        ┆ 3                   │\n",
      "│ GRA          ┆ 2                   │\n",
      "│ RSNB         ┆ 1                   │\n",
      "│ JETS         ┆ 1                   │\n",
      "└──────────────┴─────────────────────┘\n",
      "\n",
      "\n",
      "Distribution de la colonne 'shape: (3_551_191,)\n",
      "Series: 'Contributing Factor 1' [str]\n",
      "[\n",
      "\t\"HUMAN\"\n",
      "\t\"HUMAN\"\n",
      "\t\"HUMAN\"\n",
      "\t\"HUMAN\"\n",
      "\t\"HUMAN\"\n",
      "\t…\n",
      "\t\"HUMAN\"\n",
      "\t\"HUMAN\"\n",
      "\t\"HUMAN\"\n",
      "\t\"HUMAN\"\n",
      "\t\"HUMAN\"\n",
      "]':\n",
      "shape: (3, 2)\n",
      "┌───────────────────────┬─────────────────────┐\n",
      "│ Contributing Factor 1 ┆ shape: (3_551_191,) │\n",
      "│ ---                   ┆ Series: 'C…         │\n",
      "│ str                   ┆ ---                 │\n",
      "│                       ┆ u32                 │\n",
      "╞═══════════════════════╪═════════════════════╡\n",
      "│ HUMAN                 ┆ 3465520             │\n",
      "│ ENVMT                 ┆ 63149               │\n",
      "│ VEHICLE               ┆ 22522               │\n",
      "└───────────────────────┴─────────────────────┘\n",
      "\n",
      "\n",
      "Distribution de la colonne 'shape: (3_551_191,)\n",
      "Series: 'Contributing Factor 1 Description' [str]\n",
      "[\n",
      "\t\"Not Entered\"\n",
      "\t\"Not Entered\"\n",
      "\t\"Not Entered\"\n",
      "\t\"Alcohol Involvement\"\n",
      "\t\"Driver Inattention/Distraction…\n",
      "\t…\n",
      "\t\"Not Entered\"\n",
      "\t\"Not Entered\"\n",
      "\t\"Not Entered\"\n",
      "\t\"Not Entered\"\n",
      "\t\"Not Entered\"\n",
      "]':\n",
      "shape: (58, 2)\n",
      "┌─────────────────────────────────┬─────────────────────┐\n",
      "│ Contributing Factor 1 Descript… ┆ shape: (3_551_191,) │\n",
      "│ ---                             ┆ Series: 'C…         │\n",
      "│ str                             ┆ ---                 │\n",
      "│                                 ┆ u32                 │\n",
      "╞═════════════════════════════════╪═════════════════════╡\n",
      "│ Brakes Defective                ┆ 2501                │\n",
      "│ Not Entered                     ┆ 675800              │\n",
      "│ Other Lighting Defects          ┆ 156                 │\n",
      "│ Other Electronic Device*        ┆ 117                 │\n",
      "│ Alcohol Involvement             ┆ 33334               │\n",
      "│ …                               ┆ …                   │\n",
      "│ Steering Failure                ┆ 1507                │\n",
      "│ Glare                           ┆ 2251                │\n",
      "│ Windshield Inadequate           ┆ 38                  │\n",
      "│ Shoulders Defective/Improper    ┆ 51                  │\n",
      "│ Unknown                         ┆ 106843              │\n",
      "└─────────────────────────────────┴─────────────────────┘\n",
      "\n",
      "\n",
      "Distribution de la colonne 'shape: (3_551_191,)\n",
      "Series: 'Contributing Factor 2' [str]\n",
      "[\n",
      "\t\"HUMAN\"\n",
      "\t\"HUMAN\"\n",
      "\t\"HUMAN\"\n",
      "\t\"HUMAN\"\n",
      "\t\"HUMAN\"\n",
      "\t…\n",
      "\t\"HUMAN\"\n",
      "\t\"HUMAN\"\n",
      "\t\"HUMAN\"\n",
      "\t\"HUMAN\"\n",
      "\t\"HUMAN\"\n",
      "]':\n",
      "shape: (3, 2)\n",
      "┌───────────────────────┬─────────────────────┐\n",
      "│ Contributing Factor 2 ┆ shape: (3_551_191,) │\n",
      "│ ---                   ┆ Series: 'C…         │\n",
      "│ str                   ┆ ---                 │\n",
      "│                       ┆ u32                 │\n",
      "╞═══════════════════════╪═════════════════════╡\n",
      "│ VEHICLE               ┆ 60763               │\n",
      "│ HUMAN                 ┆ 3204021             │\n",
      "│ ENVMT                 ┆ 286407              │\n",
      "└───────────────────────┴─────────────────────┘\n",
      "\n",
      "\n",
      "Distribution de la colonne 'shape: (3_551_191,)\n",
      "Series: 'Contributing Factor 2 Description' [str]\n",
      "[\n",
      "\t\"Unknown\"\n",
      "\t\"Not Entered\"\n",
      "\t\"Not Entered\"\n",
      "\t\"Driver Inattention/Distraction…\n",
      "\t\"Driver Inexperience*\"\n",
      "\t…\n",
      "\t\"Not Entered\"\n",
      "\t\"Not Entered\"\n",
      "\t\"Not Entered\"\n",
      "\t\"Not Entered\"\n",
      "\t\"Not Entered\"\n",
      "]':\n",
      "shape: (58, 2)\n",
      "┌─────────────────────────────────┬─────────────────────┐\n",
      "│ Contributing Factor 2 Descript… ┆ shape: (3_551_191,) │\n",
      "│ ---                             ┆ Series: 'C…         │\n",
      "│ str                             ┆ ---                 │\n",
      "│                                 ┆ u32                 │\n",
      "╞═════════════════════════════════╪═════════════════════╡\n",
      "│ Texting                         ┆ 270                 │\n",
      "│ Unsafe Lane Changing            ┆ 79231               │\n",
      "│ Glare                           ┆ 10317               │\n",
      "│ Lost Consciousness              ┆ 4556                │\n",
      "│ Obstruction/ Debris             ┆ 13132               │\n",
      "│ …                               ┆ …                   │\n",
      "│ Other*                          ┆ 31197               │\n",
      "│ Passing or Lane Usage Improper  ┆ 93241               │\n",
      "│ Headlights Defective            ┆ 415                 │\n",
      "│ Traffic Control Device Imprope… ┆ 1579                │\n",
      "│ Drugs (Illegal)                 ┆ 1724                │\n",
      "└─────────────────────────────────┴─────────────────────┘\n",
      "\n",
      "\n",
      "Distribution de la colonne 'shape: (3_551_191,)\n",
      "Series: 'Event Type' [str]\n",
      "[\n",
      "\t\"Not Entered\"\n",
      "\t\"Other Motor Vehicle, Collision…\n",
      "\t\"Not Entered\"\n",
      "\t\"Not Entered\"\n",
      "\t\"Not Entered\"\n",
      "\t…\n",
      "\t\"Not Entered\"\n",
      "\t\"Not Entered\"\n",
      "\t\"Not Entered\"\n",
      "\t\"Other Motor Vehicle, Collision…\n",
      "\t\"Not Entered\"\n",
      "]':\n",
      "shape: (36, 2)\n",
      "┌─────────────────────────────────┬─────────────────────┐\n",
      "│ Event Type                      ┆ shape: (3_551_191,) │\n",
      "│ ---                             ┆ Series: 'E…         │\n",
      "│ str                             ┆ ---                 │\n",
      "│                                 ┆ u32                 │\n",
      "╞═════════════════════════════════╪═════════════════════╡\n",
      "│ Light Support/Utility Pole, Co… ┆ 9724                │\n",
      "│ Ran Off Roadway Only, Non-Coll… ┆ 72                  │\n",
      "│ Guide Rail - End, Collision Wi… ┆ 1083                │\n",
      "│ Pedestrian, Collision With      ┆ 4112                │\n",
      "│ Submersion, Non-Collision       ┆ 250                 │\n",
      "│ …                               ┆ …                   │\n",
      "│ Snow Embankment, Collision Wit… ┆ 1806                │\n",
      "│ Curbing, Collision With Fixed … ┆ 3704                │\n",
      "│ Bicyclist, Collision With       ┆ 575                 │\n",
      "│ In-Line Skater, Collision With  ┆ 3                   │\n",
      "│ Other*, Non-Collision           ┆ 1005                │\n",
      "└─────────────────────────────────┴─────────────────────┘\n",
      "\n",
      "\n",
      "Distribution de la colonne 'shape: (3_551_191,)\n",
      "Series: 'Partial VIN' [str]\n",
      "[\n",
      "\tnull\n",
      "\t\"JM3KFBCM4L0771428\"\n",
      "\t\"KM8J3CA40LU281000\"\n",
      "\tnull\n",
      "\tnull\n",
      "\t…\n",
      "\t\"JHLRW2H51KX006677\"\n",
      "\t\"5UXTR9C55JLC78277\"\n",
      "\tnull\n",
      "\tnull\n",
      "\tnull\n",
      "]':\n",
      "shape: (2_496_911, 2)\n",
      "┌───────────────────┬─────────────────────┐\n",
      "│ Partial VIN       ┆ shape: (3_551_191,) │\n",
      "│ ---               ┆ Series: 'P…         │\n",
      "│ str               ┆ ---                 │\n",
      "│                   ┆ u32                 │\n",
      "╞═══════════════════╪═════════════════════╡\n",
      "│ 19UUA9F5XEA002329 ┆ 1                   │\n",
      "│ 5PVNE8JT0D4S55373 ┆ 2                   │\n",
      "│ 1N4AL21E28C177313 ┆ 1                   │\n",
      "│ 2GNALAEK7E6207163 ┆ 1                   │\n",
      "│ JH4CU26639C030497 ┆ 1                   │\n",
      "│ …                 ┆ …                   │\n",
      "│ 1B3LC56J38N233467 ┆ 1                   │\n",
      "│ 2T1BU4EE9DC084503 ┆ 1                   │\n",
      "│ JN8AT2MV9HW250993 ┆ 1                   │\n",
      "│ JM3KFBDY2R0356179 ┆ 1                   │\n",
      "│ 2C3CDXCT2JH260854 ┆ 2                   │\n",
      "└───────────────────┴─────────────────────┘\n",
      "\n",
      "\n"
     ]
    }
   ],
   "source": [
    "for column in categorical_cols:\n",
    "    distribution = df.group_by(column).agg(pl.count().alias(f\"{column}_count\"))\n",
    "    print(f\"Distribution de la colonne '{column}':\")\n",
    "    print(distribution)\n",
    "    print(\"\\n\")"
   ]
  },
  {
   "cell_type": "markdown",
   "id": "619c2eca-21f4-42e1-a25f-0bd2d9927972",
   "metadata": {},
   "source": [
    "## type d'evennement apres l'accident"
   ]
  },
  {
   "cell_type": "code",
   "execution_count": 52,
   "id": "7c720020-62e5-47fd-9477-21a6b06ca676",
   "metadata": {},
   "outputs": [
    {
     "name": "stderr",
     "output_type": "stream",
     "text": [
      "C:\\Users\\HP\\AppData\\Local\\Temp\\ipykernel_22044\\485109042.py:1: DeprecationWarning: `pl.count()` is deprecated. Please use `pl.len()` instead.\n",
      "  event_type_distribution = df.select(\"Event Type\").group_by(\"Event Type\").agg(pl.count().alias(\"count\"))\n"
     ]
    },
    {
     "name": "stdout",
     "output_type": "stream",
     "text": [
      "shape: (36, 2)\n",
      "┌─────────────────────────────────┬───────┐\n",
      "│ Event Type                      ┆ count │\n",
      "│ ---                             ┆ ---   │\n",
      "│ str                             ┆ u32   │\n",
      "╞═════════════════════════════════╪═══════╡\n",
      "│ Submersion, Non-Collision       ┆ 250   │\n",
      "│ Fence, Collision With Fixed Ob… ┆ 4792  │\n",
      "│ Other Pedestrian                ┆ 465   │\n",
      "│ Bicyclist, Collision With       ┆ 575   │\n",
      "│ Overturned, Non-Collision       ┆ 6687  │\n",
      "│ …                               ┆ …     │\n",
      "│ Ran Off Roadway Only, Non-Coll… ┆ 72    │\n",
      "│ null                            ┆ 71325 │\n",
      "│ Earth Embankment/Rock Cut/Ditc… ┆ 12647 │\n",
      "│ Animal, Collision With          ┆ 629   │\n",
      "│ Light Support/Utility Pole, Co… ┆ 9724  │\n",
      "└─────────────────────────────────┴───────┘\n"
     ]
    }
   ],
   "source": [
    "event_type_distribution = df.select(\"Event Type\").group_by(\"Event Type\").agg(pl.count().alias(\"count\"))\n",
    "\n",
    "print(event_type_distribution)"
   ]
  },
  {
   "cell_type": "markdown",
   "id": "40ed2d99-0088-4ebc-b730-99c80e772354",
   "metadata": {},
   "source": [
    "## relation entre 'Event Type' et 'Vehicle Body Type'\n"
   ]
  },
  {
   "cell_type": "code",
   "execution_count": 59,
   "id": "66ac6fa9-4f12-4f92-9982-edf61f9da8e7",
   "metadata": {},
   "outputs": [
    {
     "name": "stdout",
     "output_type": "stream",
     "text": [
      "shape: (36, 2)\n",
      "┌─────────────────────────────────┬─────────────────────────────────┐\n",
      "│ Event Type                      ┆ vehicle_body_types              │\n",
      "│ ---                             ┆ ---                             │\n",
      "│ str                             ┆ list[str]                       │\n",
      "╞═════════════════════════════════╪═════════════════════════════════╡\n",
      "│ Culver/Head Wall, Collision Wi… ┆ [\"2 DOOR SEDAN\", \"POLICE VEHIC… │\n",
      "│ Other*, Non-Collision           ┆ [\"TRACTOR\", \"TOW TRUCK\", … \"2 … │\n",
      "│ Sign Post, Collision With Fixe… ┆ [\"TRACTOR\", \"4 DOOR SEDAN\", … … │\n",
      "│ Not Entered                     ┆ [\"CEMENT MIXER\", \"2 DOOR SEDAN… │\n",
      "│ Bicyclist, Collision With       ┆ [\"CONVERTIBLE\", \"UNKNOWN TRUCK… │\n",
      "│ …                               ┆ …                               │\n",
      "│ Tree, Collision With Fixed Obj… ┆ [\"DUMP\", \"SEDAN\", … \"UNKNOWN T… │\n",
      "│ Overturned, Non-Collision       ┆ [\"MOPED\", \"VAN TRUCK\", … \"TRAC… │\n",
      "│ Animal, Collision With          ┆ [\"4 DOOR SEDAN\", \"UNKNOWN TRUC… │\n",
      "│ Not Applicable                  ┆ [\"TOW TRUCK\", \"PEDESTRIAN\", … … │\n",
      "│ Unknown                         ┆ [\"POLICE VEHICLE\", \"MOTORCYCLE… │\n",
      "└─────────────────────────────────┴─────────────────────────────────┘\n"
     ]
    }
   ],
   "source": [
    "relationship = df.group_by(\"Event Type\").agg(pl.col(\"Vehicle Body Type\").unique().alias(\"vehicle_body_types\"))\n",
    "\n",
    "print(relationship)"
   ]
  },
  {
   "cell_type": "markdown",
   "id": "17c1f2cb-fc91-4a98-899f-53cf9e238d66",
   "metadata": {},
   "source": [
    "##  Calculer le nombre d'accidents pour chaque type de véhicule."
   ]
  },
  {
   "cell_type": "code",
   "execution_count": 60,
   "id": "654f8c81-1420-4b21-a245-edd929dea5f1",
   "metadata": {},
   "outputs": [],
   "source": [
    "df_filtered = df.select([\"Vehicle Body Type\", \"Case Vehicle ID\"])"
   ]
  },
  {
   "cell_type": "code",
   "execution_count": 62,
   "id": "9fff65e2-c568-478a-a395-2ded8fa22311",
   "metadata": {},
   "outputs": [],
   "source": [
    "accidents_by_vehicle_type = df_filtered.group_by(\"Vehicle Body Type\").agg(pl.count(\"Case Vehicle ID\").alias(\"accident_count\"))\n"
   ]
  },
  {
   "cell_type": "code",
   "execution_count": 68,
   "id": "aa6eaa9f-548f-4c69-9a55-511c72cfe9f5",
   "metadata": {},
   "outputs": [],
   "source": [
    "accidents_by_vehicle_type_sorted = accidents_by_vehicle_type.sort(\"accident_count\", descending=True)\n"
   ]
  },
  {
   "cell_type": "code",
   "execution_count": 69,
   "id": "46c336be-24cf-4941-89f0-c2af2bf8cf83",
   "metadata": {},
   "outputs": [
    {
     "name": "stdout",
     "output_type": "stream",
     "text": [
      "shape: (64, 2)\n",
      "┌───────────────────────────┬────────────────┐\n",
      "│ Vehicle Body Type         ┆ accident_count │\n",
      "│ ---                       ┆ ---            │\n",
      "│ str                       ┆ u32            │\n",
      "╞═══════════════════════════╪════════════════╡\n",
      "│ SUBURBAN                  ┆ 1381738        │\n",
      "│ 4 DOOR SEDAN              ┆ 1094922        │\n",
      "│ PICKUP TRUCK              ┆ 256761         │\n",
      "│ UNKNOWN VEHICLE           ┆ 220999         │\n",
      "│ SEDAN                     ┆ 110017         │\n",
      "│ …                         ┆ …              │\n",
      "│ WELL SERVICING RIG        ┆ 14             │\n",
      "│ WELL DRILLER              ┆ 9              │\n",
      "│ HEARSE - INVALID          ┆ 5              │\n",
      "│ FEED PROCESSING MACHINE   ┆ 2              │\n",
      "│ LOW SPEED VEHICLE - TRUCK ┆ 2              │\n",
      "└───────────────────────────┴────────────────┘\n"
     ]
    }
   ],
   "source": [
    "print(accidents_by_vehicle_type_sorted)"
   ]
  },
  {
   "cell_type": "markdown",
   "id": "7594028d-9f71-492e-951e-0e8aa946e06d",
   "metadata": {},
   "source": [
    "## l'analyse des occupants par catégorie de véhicule"
   ]
  },
  {
   "cell_type": "code",
   "execution_count": 72,
   "id": "71b4bef8-45ea-4d25-8da4-1dc9ddefa5cf",
   "metadata": {},
   "outputs": [],
   "source": [
    "df_filter = df.select([\"Vehicle Body Type\", \"Number of Occupants\"])\n"
   ]
  },
  {
   "cell_type": "code",
   "execution_count": 88,
   "id": "962e057d-61e8-4857-9a19-afdfc7e75c16",
   "metadata": {},
   "outputs": [],
   "source": [
    "occupants_by_vehicle_type = df.group_by(\"Vehicle Body Type\").agg(\n",
    "    pl.col(\"Number of Occupants\").sum().alias(\"total_occupants\")\n",
    ")"
   ]
  },
  {
   "cell_type": "code",
   "execution_count": 90,
   "id": "38fa91f3-2696-423c-bfda-a5623d6f5533",
   "metadata": {},
   "outputs": [],
   "source": [
    "occupants_by_vehicle_type_sorted = occupants_by_vehicle_type.sort(\"total_occupants\", descending=True)\n"
   ]
  },
  {
   "cell_type": "code",
   "execution_count": 91,
   "id": "43452b68-3920-4409-91d5-70a0fa3f48df",
   "metadata": {},
   "outputs": [
    {
     "name": "stdout",
     "output_type": "stream",
     "text": [
      "shape: (64, 2)\n",
      "┌───────────────────────────┬─────────────────┐\n",
      "│ Vehicle Body Type         ┆ total_occupants │\n",
      "│ ---                       ┆ ---             │\n",
      "│ str                       ┆ i64             │\n",
      "╞═══════════════════════════╪═════════════════╡\n",
      "│ SUBURBAN                  ┆ 1683936         │\n",
      "│ 4 DOOR SEDAN              ┆ 1264589         │\n",
      "│ PICKUP TRUCK              ┆ 286722          │\n",
      "│ SEDAN                     ┆ 108316          │\n",
      "│ BUS (OMNIBUS)             ┆ 100294          │\n",
      "│ …                         ┆ …               │\n",
      "│ HEARSE - INVALID          ┆ 6               │\n",
      "│ FEED PROCESSING MACHINE   ┆ 2               │\n",
      "│ LOW SPEED VEHICLE - TRUCK ┆ 1               │\n",
      "│ PEDESTRIAN                ┆ 0               │\n",
      "│ OTHER PEDESTRIAN          ┆ 0               │\n",
      "└───────────────────────────┴─────────────────┘\n"
     ]
    }
   ],
   "source": [
    "print(occupants_by_vehicle_type_sorted)"
   ]
  },
  {
   "cell_type": "code",
   "execution_count": null,
   "id": "5ccac6c9-ea6d-4401-a574-b22945959a27",
   "metadata": {},
   "outputs": [],
   "source": []
  }
 ],
 "metadata": {
  "kernelspec": {
   "display_name": "env",
   "language": "python",
   "name": "python3"
  },
  "language_info": {
   "codemirror_mode": {
    "name": "ipython",
    "version": 3
   },
   "file_extension": ".py",
   "mimetype": "text/x-python",
   "name": "python",
   "nbconvert_exporter": "python",
   "pygments_lexer": "ipython3",
   "version": "3.12.4"
  }
 },
 "nbformat": 4,
 "nbformat_minor": 5
}
